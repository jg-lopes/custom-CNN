{
  "nbformat": 4,
  "nbformat_minor": 0,
  "metadata": {
    "kernelspec": {
      "name": "python3",
      "display_name": "Python 3"
    },
    "colab": {
      "name": "FDL_Assignment.ipynb",
      "provenance": [],
      "collapsed_sections": []
    },
    "accelerator": "GPU",
    "widgets": {
      "application/vnd.jupyter.widget-state+json": {
        "a1061698a80e49bc966e1b5c9cbe9e77": {
          "model_module": "@jupyter-widgets/controls",
          "model_name": "HBoxModel",
          "state": {
            "_view_name": "HBoxView",
            "_dom_classes": [],
            "_model_name": "HBoxModel",
            "_view_module": "@jupyter-widgets/controls",
            "_model_module_version": "1.5.0",
            "_view_count": null,
            "_view_module_version": "1.5.0",
            "box_style": "",
            "layout": "IPY_MODEL_95c0445d7a174458a228fd22cbd2329b",
            "_model_module": "@jupyter-widgets/controls",
            "children": [
              "IPY_MODEL_0a326c288157450ca512415456e26423",
              "IPY_MODEL_70df4a30f8b44c379d6feb077d037379"
            ]
          }
        },
        "95c0445d7a174458a228fd22cbd2329b": {
          "model_module": "@jupyter-widgets/base",
          "model_name": "LayoutModel",
          "state": {
            "_view_name": "LayoutView",
            "grid_template_rows": null,
            "right": null,
            "justify_content": null,
            "_view_module": "@jupyter-widgets/base",
            "overflow": null,
            "_model_module_version": "1.2.0",
            "_view_count": null,
            "flex_flow": null,
            "width": null,
            "min_width": null,
            "border": null,
            "align_items": null,
            "bottom": null,
            "_model_module": "@jupyter-widgets/base",
            "top": null,
            "grid_column": null,
            "overflow_y": null,
            "overflow_x": null,
            "grid_auto_flow": null,
            "grid_area": null,
            "grid_template_columns": null,
            "flex": null,
            "_model_name": "LayoutModel",
            "justify_items": null,
            "grid_row": null,
            "max_height": null,
            "align_content": null,
            "visibility": null,
            "align_self": null,
            "height": null,
            "min_height": null,
            "padding": null,
            "grid_auto_rows": null,
            "grid_gap": null,
            "max_width": null,
            "order": null,
            "_view_module_version": "1.2.0",
            "grid_template_areas": null,
            "object_position": null,
            "object_fit": null,
            "grid_auto_columns": null,
            "margin": null,
            "display": null,
            "left": null
          }
        },
        "0a326c288157450ca512415456e26423": {
          "model_module": "@jupyter-widgets/controls",
          "model_name": "FloatProgressModel",
          "state": {
            "_view_name": "ProgressView",
            "style": "IPY_MODEL_288b04669b7841efa5588dfd02c397a2",
            "_dom_classes": [],
            "description": "",
            "_model_name": "FloatProgressModel",
            "bar_style": "info",
            "max": 1,
            "_view_module": "@jupyter-widgets/controls",
            "_model_module_version": "1.5.0",
            "value": 1,
            "_view_count": null,
            "_view_module_version": "1.5.0",
            "orientation": "horizontal",
            "min": 0,
            "description_tooltip": null,
            "_model_module": "@jupyter-widgets/controls",
            "layout": "IPY_MODEL_a8ef17c693f145d59d166d49e5a5b30a"
          }
        },
        "70df4a30f8b44c379d6feb077d037379": {
          "model_module": "@jupyter-widgets/controls",
          "model_name": "HTMLModel",
          "state": {
            "_view_name": "HTMLView",
            "style": "IPY_MODEL_6581802a73944d14b4e9bf0f936ec2c3",
            "_dom_classes": [],
            "description": "",
            "_model_name": "HTMLModel",
            "placeholder": "​",
            "_view_module": "@jupyter-widgets/controls",
            "_model_module_version": "1.5.0",
            "value": " 170500096/? [00:20&lt;00:00, 95900319.67it/s]",
            "_view_count": null,
            "_view_module_version": "1.5.0",
            "description_tooltip": null,
            "_model_module": "@jupyter-widgets/controls",
            "layout": "IPY_MODEL_21fb7da6562c4e00a463d5d5567197d4"
          }
        },
        "288b04669b7841efa5588dfd02c397a2": {
          "model_module": "@jupyter-widgets/controls",
          "model_name": "ProgressStyleModel",
          "state": {
            "_view_name": "StyleView",
            "_model_name": "ProgressStyleModel",
            "description_width": "initial",
            "_view_module": "@jupyter-widgets/base",
            "_model_module_version": "1.5.0",
            "_view_count": null,
            "_view_module_version": "1.2.0",
            "bar_color": null,
            "_model_module": "@jupyter-widgets/controls"
          }
        },
        "a8ef17c693f145d59d166d49e5a5b30a": {
          "model_module": "@jupyter-widgets/base",
          "model_name": "LayoutModel",
          "state": {
            "_view_name": "LayoutView",
            "grid_template_rows": null,
            "right": null,
            "justify_content": null,
            "_view_module": "@jupyter-widgets/base",
            "overflow": null,
            "_model_module_version": "1.2.0",
            "_view_count": null,
            "flex_flow": null,
            "width": null,
            "min_width": null,
            "border": null,
            "align_items": null,
            "bottom": null,
            "_model_module": "@jupyter-widgets/base",
            "top": null,
            "grid_column": null,
            "overflow_y": null,
            "overflow_x": null,
            "grid_auto_flow": null,
            "grid_area": null,
            "grid_template_columns": null,
            "flex": null,
            "_model_name": "LayoutModel",
            "justify_items": null,
            "grid_row": null,
            "max_height": null,
            "align_content": null,
            "visibility": null,
            "align_self": null,
            "height": null,
            "min_height": null,
            "padding": null,
            "grid_auto_rows": null,
            "grid_gap": null,
            "max_width": null,
            "order": null,
            "_view_module_version": "1.2.0",
            "grid_template_areas": null,
            "object_position": null,
            "object_fit": null,
            "grid_auto_columns": null,
            "margin": null,
            "display": null,
            "left": null
          }
        },
        "6581802a73944d14b4e9bf0f936ec2c3": {
          "model_module": "@jupyter-widgets/controls",
          "model_name": "DescriptionStyleModel",
          "state": {
            "_view_name": "StyleView",
            "_model_name": "DescriptionStyleModel",
            "description_width": "",
            "_view_module": "@jupyter-widgets/base",
            "_model_module_version": "1.5.0",
            "_view_count": null,
            "_view_module_version": "1.2.0",
            "_model_module": "@jupyter-widgets/controls"
          }
        },
        "21fb7da6562c4e00a463d5d5567197d4": {
          "model_module": "@jupyter-widgets/base",
          "model_name": "LayoutModel",
          "state": {
            "_view_name": "LayoutView",
            "grid_template_rows": null,
            "right": null,
            "justify_content": null,
            "_view_module": "@jupyter-widgets/base",
            "overflow": null,
            "_model_module_version": "1.2.0",
            "_view_count": null,
            "flex_flow": null,
            "width": null,
            "min_width": null,
            "border": null,
            "align_items": null,
            "bottom": null,
            "_model_module": "@jupyter-widgets/base",
            "top": null,
            "grid_column": null,
            "overflow_y": null,
            "overflow_x": null,
            "grid_auto_flow": null,
            "grid_area": null,
            "grid_template_columns": null,
            "flex": null,
            "_model_name": "LayoutModel",
            "justify_items": null,
            "grid_row": null,
            "max_height": null,
            "align_content": null,
            "visibility": null,
            "align_self": null,
            "height": null,
            "min_height": null,
            "padding": null,
            "grid_auto_rows": null,
            "grid_gap": null,
            "max_width": null,
            "order": null,
            "_view_module_version": "1.2.0",
            "grid_template_areas": null,
            "object_position": null,
            "object_fit": null,
            "grid_auto_columns": null,
            "margin": null,
            "display": null,
            "left": null
          }
        }
      }
    }
  },
  "cells": [
    {
      "cell_type": "markdown",
      "metadata": {
        "id": "HzT-fZzFRKly"
      },
      "source": [
        "## CNN Exercises\n",
        "\n",
        "This notebook contains an implementation of a custom-built CNN architecture as proposed by an assignment by the Foundations of Deep Learning class from MSc DSBA."
      ]
    },
    {
      "cell_type": "markdown",
      "metadata": {
        "id": "zPUOV6dFRKl7"
      },
      "source": [
        "### Question 1 -  TRAIN ON CIFAR DATASET\n",
        "In this exercise you are asked to train a Convolutional Neural Network (CNN) on the CIFAR10 dataset and visualize its feature maps."
      ]
    },
    {
      "cell_type": "markdown",
      "metadata": {
        "id": "lCX0xLejRKl9"
      },
      "source": [
        "2a) Download the CIFAR10 dataset using the already provided PyTorch dataloaders. \n",
        "*   Read and understand the following code\n",
        "*   Feel free to add additional transformations for data augmentation"
      ]
    },
    {
      "cell_type": "code",
      "metadata": {
        "id": "5KyVunArRKl-",
        "colab": {
          "base_uri": "https://localhost:8080/",
          "height": 99,
          "referenced_widgets": [
            "a1061698a80e49bc966e1b5c9cbe9e77",
            "95c0445d7a174458a228fd22cbd2329b",
            "0a326c288157450ca512415456e26423",
            "70df4a30f8b44c379d6feb077d037379",
            "288b04669b7841efa5588dfd02c397a2",
            "a8ef17c693f145d59d166d49e5a5b30a",
            "6581802a73944d14b4e9bf0f936ec2c3",
            "21fb7da6562c4e00a463d5d5567197d4"
          ]
        },
        "outputId": "b038eeae-b12e-4f2c-a9c4-379a36079655"
      },
      "source": [
        "## Download the CIFAR10 dataset using the PyTorch dataloaders\n",
        "import torchvision\n",
        "import torchvision.transforms as transforms\n",
        "import torch\n",
        "\n",
        "# *****START CODE \n",
        "## Data\n",
        "##Here you are free to add further transform functions if you wish\n",
        "BATCH_SIZE = 32\n",
        "transform_train = transforms.Compose([\n",
        "    transforms.ToTensor(),\n",
        "])\n",
        "\n",
        "transform_test = transforms.Compose([\n",
        "    transforms.ToTensor(),\n",
        "])\n",
        "\n",
        "trainset = torchvision.datasets.CIFAR10(root='./data', train=True, download=True, transform=transform_train)\n",
        "train_dataloader = torch.utils.data.DataLoader(trainset, batch_size=BATCH_SIZE, shuffle=True)\n",
        "\n",
        "testset = torchvision.datasets.CIFAR10(root='./data', train=False, download=True, transform=transform_test)\n",
        "val_dataloader = torch.utils.data.DataLoader(testset, batch_size=BATCH_SIZE, shuffle=False)\n",
        "# *****END CODE"
      ],
      "execution_count": null,
      "outputs": [
        {
          "output_type": "stream",
          "text": [
            "Downloading https://www.cs.toronto.edu/~kriz/cifar-10-python.tar.gz to ./data/cifar-10-python.tar.gz\n"
          ],
          "name": "stdout"
        },
        {
          "output_type": "display_data",
          "data": {
            "application/vnd.jupyter.widget-view+json": {
              "model_id": "a1061698a80e49bc966e1b5c9cbe9e77",
              "version_minor": 0,
              "version_major": 2
            },
            "text/plain": [
              "HBox(children=(FloatProgress(value=1.0, bar_style='info', max=1.0), HTML(value='')))"
            ]
          },
          "metadata": {
            "tags": []
          }
        },
        {
          "output_type": "stream",
          "text": [
            "Extracting ./data/cifar-10-python.tar.gz to ./data\n",
            "Files already downloaded and verified\n"
          ],
          "name": "stdout"
        }
      ]
    },
    {
      "cell_type": "markdown",
      "metadata": {
        "id": "3S-ITJo9RKmA"
      },
      "source": [
        "1b) Create your convolutional neural network.\n",
        "*   Create your own CNN architecture, defining the modules that you want to include\n",
        "*   Be sure you are using convolutional modules, activation functions as well as fully connected modules\n",
        "*   Use different modules and hyperparameters to boost the performance of the network"
      ]
    },
    {
      "cell_type": "code",
      "metadata": {
        "id": "9hb1skoXRKmA"
      },
      "source": [
        "import torch\n",
        "import torch.nn as nn\n",
        "import torch.nn.functional as F\n",
        "\n",
        "# We will base our CNN architecture following the guidelines of CS231n - https://cs231n.github.io/convolutional-networks/#overview\n",
        "# INPUT -> [[CONV -> RELU]*N -> POOL?]*M -> [FC -> RELU]*K -> FC\n",
        "# In short, we will stack Convolutions and Relu blocks followed by pooling at the hidden layers\n",
        "# And at the end of the network, we will make use of fully connected layers before the final classification\n",
        "\n",
        "# Thus, let's create the building blocks of our network\n",
        "# We will add some depth to the general outlines by making our final architecture\n",
        "\n",
        "\n",
        "# \n",
        "# *****START CODE\n",
        "class ConvNet(nn.Module):\n",
        "    def __init__(self):\n",
        "        super(ConvNet, self).__init__()\n",
        "        \n",
        "\n",
        "        self.convolutional = nn.Sequential(\n",
        "            nn.Conv2d(3,8,3,padding = 1),\n",
        "            nn.ReLU(inplace = True),\n",
        "            nn.MaxPool2d(2),\n",
        "\n",
        "            nn.Conv2d(8,16,3),\n",
        "            nn.ReLU(inplace = True),\n",
        "            nn.Conv2d(16,64,3,padding = 1),\n",
        "            nn.ReLU(inplace = True),\n",
        "            nn.MaxPool2d(2),\n",
        "            \n",
        "            nn.Conv2d(64,64,3),\n",
        "            nn.ReLU(inplace = True),\n",
        "            nn.Conv2d(64,128,3,padding = 1),\n",
        "            nn.ReLU(inplace = True),\n",
        "            nn.MaxPool2d(2)\n",
        "            \n",
        "        )\n",
        "\n",
        "        self.fc = nn.Sequential(\n",
        "            nn.Linear(128*4 , 128*4 * 4),\n",
        "            nn.ReLU(inplace = True),\n",
        "            nn.Linear(128*4 * 4, 128*4 * 4),\n",
        "            nn.ReLU(inplace = True),\n",
        "            nn.Linear(128*4 * 4, 10)\n",
        "        )\n",
        "        \n",
        "        \n",
        "        \n",
        "    def forward(self, x):\n",
        "        x = self.convolutional(x)\n",
        "        #print(x.size())\n",
        "        v = x.view(x.shape[0], -1)\n",
        "        x = self.fc(v)\n",
        "        return x\n",
        "\n",
        "# *****END CODE"
      ],
      "execution_count": null,
      "outputs": []
    },
    {
      "cell_type": "code",
      "metadata": {
        "colab": {
          "base_uri": "https://localhost:8080/"
        },
        "id": "dSg_Cj6TH0iK",
        "outputId": "b699f37c-8a44-4796-e52d-133257b98846"
      },
      "source": [
        ""
      ],
      "execution_count": null,
      "outputs": [
        {
          "output_type": "stream",
          "text": [
            "cuda:0\n"
          ],
          "name": "stdout"
        }
      ]
    },
    {
      "cell_type": "markdown",
      "metadata": {
        "id": "1oCW4FGORKmC"
      },
      "source": [
        "1c) Create the training scheme\n",
        "*    Call the model\n",
        "*    Specify the training hyperparameters like type of optimizer and criterion\n",
        "*    Specify number of epochs"
      ]
    },
    {
      "cell_type": "code",
      "metadata": {
        "id": "emDRadjhRKmD"
      },
      "source": [
        "# *****START CODE\n",
        "# Setting up the environment to cuda, if available\n",
        "device = torch.device(\"cuda:0\" if torch.cuda.is_available() else \"cpu\")\n",
        "\n",
        "model = ConvNet().to(device)\n",
        "optimizer = torch.optim.SGD(model.parameters(), lr=0.01, momentum=0.5)\n",
        "criterion = nn.CrossEntropyLoss()\n",
        "epochs = 30\n",
        "# *****END CODE\n",
        "\n",
        "#debug_dl = torch.utils.data.DataLoader(trainset, batch_size=32, shuffle=True)\n",
        "\n",
        "#img, lbl = next(iter(debug_dl))\n",
        "#model(img.to(device))\n",
        "\n",
        "#print(\" \")\n"
      ],
      "execution_count": null,
      "outputs": []
    },
    {
      "cell_type": "markdown",
      "metadata": {
        "id": "cIAwvLE7RKmD"
      },
      "source": [
        "1d) Plot the train and validation loss curves for the entire training process\n",
        "*   Validate the model after each epoch\n",
        "*   Plot both training and validation loss curves\n",
        "*   Write a small description discussing about the curves. What is the behaviour of the model?"
      ]
    },
    {
      "cell_type": "code",
      "metadata": {
        "id": "-UITTFW0RKmE",
        "colab": {
          "base_uri": "https://localhost:8080/"
        },
        "outputId": "3bd06a72-51ce-4621-88c5-d7a328b04b8b"
      },
      "source": [
        "## Train the model and validate it after each epoch.\n",
        "## Provide the train-val loss graph.\n",
        "\n",
        "# *****START CODE\n",
        "train_loss_epochs = []\n",
        "val_loss_epochs = []\n",
        "\n",
        "for epoch in range(1, epochs+1):\n",
        "    running_loss = 0.0\n",
        "    iters = 0\n",
        "\n",
        "    # Training \n",
        "    for i, data in enumerate(train_dataloader, 0):\n",
        "        \n",
        "        # Turning on training mode for the network\n",
        "        model.train()\n",
        "        \n",
        "        img_batch, lbl_batch = data\n",
        "\n",
        "        optimizer.zero_grad()\n",
        "\n",
        "        outputs = model(img_batch.to(device))\n",
        "        loss = criterion(outputs, lbl_batch.to(device))\n",
        "        loss.backward()\n",
        "        optimizer.step()\n",
        "\n",
        "        # print statistics\n",
        "        running_loss += loss.item()\n",
        "        iters += 1\n",
        "\n",
        "        if i+1 % 400 == 0:\n",
        "          print(f\"Epoch {epoch} - Train Loss at {i}: {running_loss / iters}\")\n",
        "          \n",
        "    print(f\"Training for epoch {epoch} finished with loss of: {running_loss / iters}\")\n",
        "    train_loss_epochs.append(running_loss/iters)\n",
        "    running_loss = 0.0\n",
        "    iters = 0\n",
        "    # Validation \n",
        "    for i, data in enumerate(val_dataloader, 0):\n",
        "\n",
        "        \n",
        "        img_batch, lbl_batch = data\n",
        "\n",
        "        optimizer.zero_grad()\n",
        "\n",
        "        outputs = model(img_batch.to(device))\n",
        "        loss = criterion(outputs, lbl_batch.to(device))\n",
        "\n",
        "        # print statistics\n",
        "        running_loss += loss.item()\n",
        "        iters += 1\n",
        "\n",
        "        #if i % 200 == 0:\n",
        "        #  print(f\"Epoch {epoch} - Validation Loss at {i}: {running_loss / iters}\")\n",
        "\n",
        "    print(f\"Validation for epoch {epoch} finished with loss of: {running_loss / iters}\")\n",
        "    val_loss_epochs.append(running_loss/iters)\n",
        "    \n",
        "print('Finished Training')\n",
        "\n",
        "\n",
        "\n",
        "# *****END CODE"
      ],
      "execution_count": null,
      "outputs": [
        {
          "output_type": "stream",
          "text": [
            "Training for epoch 1 finished with loss of: 2.302735814358741\n",
            "Validation for epoch 1 finished with loss of: 2.3022566024487774\n",
            "Training for epoch 2 finished with loss of: 2.2993717172248043\n",
            "Validation for epoch 2 finished with loss of: 2.2806220534510504\n",
            "Training for epoch 3 finished with loss of: 2.080343486403931\n",
            "Validation for epoch 3 finished with loss of: 1.9755571482661434\n",
            "Training for epoch 4 finished with loss of: 1.8516787012951998\n",
            "Validation for epoch 4 finished with loss of: 1.714551979360489\n",
            "Training for epoch 5 finished with loss of: 1.622665250827621\n",
            "Validation for epoch 5 finished with loss of: 1.5179676404014564\n",
            "Training for epoch 6 finished with loss of: 1.469030132792504\n",
            "Validation for epoch 6 finished with loss of: 1.4080630000026082\n",
            "Training for epoch 7 finished with loss of: 1.349598337005364\n",
            "Validation for epoch 7 finished with loss of: 1.4258552325038483\n",
            "Training for epoch 8 finished with loss of: 1.247826931992175\n",
            "Validation for epoch 8 finished with loss of: 1.2279563715663582\n",
            "Training for epoch 9 finished with loss of: 1.1500947889576947\n",
            "Validation for epoch 9 finished with loss of: 1.1990519948660756\n",
            "Training for epoch 10 finished with loss of: 1.0624618159603478\n",
            "Validation for epoch 10 finished with loss of: 1.202026055072443\n",
            "Training for epoch 11 finished with loss of: 0.9811559482712968\n",
            "Validation for epoch 11 finished with loss of: 1.0172117360102864\n",
            "Training for epoch 12 finished with loss of: 0.9009477835927953\n",
            "Validation for epoch 12 finished with loss of: 1.0435771825976266\n",
            "Training for epoch 13 finished with loss of: 0.8284438642758402\n",
            "Validation for epoch 13 finished with loss of: 0.9439475953388519\n",
            "Training for epoch 14 finished with loss of: 0.7564622163581909\n",
            "Validation for epoch 14 finished with loss of: 0.9360654195086263\n",
            "Training for epoch 15 finished with loss of: 0.6817688948724488\n",
            "Validation for epoch 15 finished with loss of: 0.9633817755566618\n",
            "Training for epoch 16 finished with loss of: 0.6093762081476335\n",
            "Validation for epoch 16 finished with loss of: 0.9638586691774118\n",
            "Training for epoch 17 finished with loss of: 0.5349553913373789\n",
            "Validation for epoch 17 finished with loss of: 1.0070065018087149\n",
            "Training for epoch 18 finished with loss of: 0.46194485590691303\n",
            "Validation for epoch 18 finished with loss of: 1.0428080046519685\n",
            "Training for epoch 19 finished with loss of: 0.3882544392973699\n",
            "Validation for epoch 19 finished with loss of: 1.1774070717084903\n",
            "Training for epoch 20 finished with loss of: 0.3204731313620175\n",
            "Validation for epoch 20 finished with loss of: 1.2117003944163887\n",
            "Training for epoch 21 finished with loss of: 0.25676210509447506\n",
            "Validation for epoch 21 finished with loss of: 1.2336823045255276\n",
            "Training for epoch 22 finished with loss of: 0.2098374001119317\n",
            "Validation for epoch 22 finished with loss of: 1.445710453743371\n",
            "Training for epoch 23 finished with loss of: 0.16381419077515602\n",
            "Validation for epoch 23 finished with loss of: 1.5115772889445003\n",
            "Training for epoch 24 finished with loss of: 0.14426127375775064\n",
            "Validation for epoch 24 finished with loss of: 1.4125869698798694\n",
            "Training for epoch 25 finished with loss of: 0.11884513704114553\n",
            "Validation for epoch 25 finished with loss of: 1.728928446388854\n",
            "Training for epoch 26 finished with loss of: 0.10528521277296451\n",
            "Validation for epoch 26 finished with loss of: 1.8045033596384639\n",
            "Training for epoch 27 finished with loss of: 0.09881197008423767\n",
            "Validation for epoch 27 finished with loss of: 1.8831144220912799\n",
            "Training for epoch 28 finished with loss of: 0.07592455148651465\n",
            "Validation for epoch 28 finished with loss of: 1.7312017664932215\n",
            "Training for epoch 29 finished with loss of: 0.07193638830697754\n",
            "Validation for epoch 29 finished with loss of: 1.8448131688581868\n",
            "Training for epoch 30 finished with loss of: 0.05281040399457922\n",
            "Validation for epoch 30 finished with loss of: 2.1552224041174015\n",
            "Finished Training\n"
          ],
          "name": "stdout"
        }
      ]
    },
    {
      "cell_type": "code",
      "metadata": {
        "colab": {
          "base_uri": "https://localhost:8080/",
          "height": 295
        },
        "id": "x-AKSxOxX9iW",
        "outputId": "a9502b36-9148-44ad-8b86-92e1dd850b68"
      },
      "source": [
        "import matplotlib.pyplot as plt\r\n",
        "\r\n",
        "plt.title('Cross Entropy Loss')\r\n",
        "plt.plot(train_loss_epochs, color='blue', label='train')\r\n",
        "plt.plot(val_loss_epochs, color='orange', label='test')\r\n",
        "plt.xlabel(\"Epoch\")\r\n",
        "plt.ylabel(\"Cross Entropy Loss\")\r\n",
        "plt.xticks(np.arange(0, epochs, 2))\r\n",
        "\r\n",
        "plt.show()"
      ],
      "execution_count": null,
      "outputs": [
        {
          "output_type": "display_data",
          "data": {
            "image/png": "[encoded data removed]",
            "text/plain": [
              "<Figure size 432x288 with 1 Axes>"
            ]
          },
          "metadata": {
            "tags": [],
            "needs_background": "light"
          }
        }
      ]
    },
    {
      "cell_type": "markdown",
      "metadata": {
        "id": "ZLzGED91b1E-"
      },
      "source": [
        "**We can see clearly on the graph that there is an overfitting behavior in our model as the epochs increase. While as the model trains more, the model becomes continuously better on the training set while its performance gets progressively worse for the validation data.**\r\n",
        "\r\n",
        "**This, of course, indicates that for this architecture we must consider either adding more overfitting-proof techiniques (such as dropout) or an early-stoppage at around the epoch. In order to not alter too much the architecture of the model for the following questions, we will simply apply a early-stoppage at around epoch 14, where the model presented the best results.**"
      ]
    },
    {
      "cell_type": "code",
      "metadata": {
        "colab": {
          "base_uri": "https://localhost:8080/"
        },
        "id": "SaufnrtzoKyG",
        "outputId": "0ad1e8c7-37f0-4f8d-b7de-3b9c5c77395f"
      },
      "source": [
        "# Mouting to drive in order to save the best model\r\n",
        "from google.colab import drive\r\n",
        "drive = drive.mount('/content/drive')\r\n"
      ],
      "execution_count": null,
      "outputs": [
        {
          "output_type": "stream",
          "text": [
            "Mounted at /content/drive\n"
          ],
          "name": "stdout"
        }
      ]
    },
    {
      "cell_type": "code",
      "metadata": {
        "colab": {
          "base_uri": "https://localhost:8080/"
        },
        "id": "WOQYhqi5ozXu",
        "outputId": "3957b7d8-f47a-4c7d-cfec-cd9d646c4e6f"
      },
      "source": [
        "model = ConvNet().to(device)\r\n",
        "optimizer = torch.optim.SGD(model.parameters(), lr=0.01, momentum=0.5)\r\n",
        "criterion = nn.CrossEntropyLoss()\r\n",
        "epochs = 14\r\n",
        "\r\n",
        "\r\n",
        "train_loss_epochs = []\r\n",
        "val_loss_epochs = []\r\n",
        "\r\n",
        "for epoch in range(1, epochs+1):\r\n",
        "    running_loss = 0.0\r\n",
        "    iters = 0\r\n",
        "\r\n",
        "    # Training \r\n",
        "    for i, data in enumerate(train_dataloader, 0):\r\n",
        "        \r\n",
        "        # Turning on training mode for the network\r\n",
        "        model.train()\r\n",
        "        \r\n",
        "        img_batch, lbl_batch = data\r\n",
        "\r\n",
        "        optimizer.zero_grad()\r\n",
        "\r\n",
        "        outputs = model(img_batch.to(device))\r\n",
        "        loss = criterion(outputs, lbl_batch.to(device))\r\n",
        "        loss.backward()\r\n",
        "        optimizer.step()\r\n",
        "\r\n",
        "        # print statistics\r\n",
        "        running_loss += loss.item()\r\n",
        "        iters += 1\r\n",
        "\r\n",
        "        if i+1 % 400 == 0:\r\n",
        "          print(f\"Epoch {epoch} - Train Loss at {i}: {running_loss / iters}\")\r\n",
        "          \r\n",
        "    print(f\"Training for epoch {epoch} finished with loss of: {running_loss / iters}\")\r\n",
        "    train_loss_epochs.append(running_loss/iters)\r\n",
        "    running_loss = 0.0\r\n",
        "    iters = 0\r\n",
        "    # Validation \r\n",
        "    for i, data in enumerate(val_dataloader, 0):\r\n",
        "\r\n",
        "        \r\n",
        "        img_batch, lbl_batch = data\r\n",
        "\r\n",
        "        optimizer.zero_grad()\r\n",
        "\r\n",
        "        outputs = model(img_batch.to(device))\r\n",
        "        loss = criterion(outputs, lbl_batch.to(device))\r\n",
        "\r\n",
        "        # print statistics\r\n",
        "        running_loss += loss.item()\r\n",
        "        iters += 1\r\n",
        "\r\n",
        "        #if i % 200 == 0:\r\n",
        "        #  print(f\"Epoch {epoch} - Validation Loss at {i}: {running_loss / iters}\")\r\n",
        "\r\n",
        "    print(f\"Validation for epoch {epoch} finished with loss of: {running_loss / iters}\")\r\n",
        "    val_loss_epochs.append(running_loss/iters)\r\n",
        "    \r\n",
        "print(\"Finished Training\")\r\n",
        "\r\n",
        "torch.save(model.state_dict(), 'drive/My Drive/DSBA/FDL/model.pt')"
      ],
      "execution_count": null,
      "outputs": [
        {
          "output_type": "stream",
          "text": [
            "Training for epoch 1 finished with loss of: 2.3027513213288837\n",
            "Validation for epoch 1 finished with loss of: 2.302336950271655\n",
            "Training for epoch 2 finished with loss of: 2.3012507178428\n",
            "Validation for epoch 2 finished with loss of: 2.2960160380354324\n",
            "Training for epoch 3 finished with loss of: 2.121318089527269\n",
            "Validation for epoch 3 finished with loss of: 1.9481375925837996\n",
            "Training for epoch 4 finished with loss of: 1.865681896893092\n",
            "Validation for epoch 4 finished with loss of: 1.7440444074880581\n",
            "Training for epoch 5 finished with loss of: 1.6508579275505861\n",
            "Validation for epoch 5 finished with loss of: 1.60227938277272\n",
            "Training for epoch 6 finished with loss of: 1.499932766875928\n",
            "Validation for epoch 6 finished with loss of: 1.4803199528124387\n",
            "Training for epoch 7 finished with loss of: 1.3825451412875152\n",
            "Validation for epoch 7 finished with loss of: 1.4377683850523002\n",
            "Training for epoch 8 finished with loss of: 1.2887216839207645\n",
            "Validation for epoch 8 finished with loss of: 1.263866200614661\n",
            "Training for epoch 9 finished with loss of: 1.20594790122178\n",
            "Validation for epoch 9 finished with loss of: 1.3161387664441484\n",
            "Training for epoch 10 finished with loss of: 1.1244674239567436\n",
            "Validation for epoch 10 finished with loss of: 1.176140037397988\n",
            "Training for epoch 11 finished with loss of: 1.0411981795357346\n",
            "Validation for epoch 11 finished with loss of: 1.1890580117131193\n",
            "Training for epoch 12 finished with loss of: 0.9578817976413442\n",
            "Validation for epoch 12 finished with loss of: 1.1061210257176775\n",
            "Training for epoch 13 finished with loss of: 0.8732141826256528\n",
            "Validation for epoch 13 finished with loss of: 1.1033591113913173\n",
            "Training for epoch 14 finished with loss of: 0.7839239654980328\n",
            "Validation for epoch 14 finished with loss of: 1.1530923523461094\n",
            "Finished Training\n"
          ],
          "name": "stdout"
        }
      ]
    },
    {
      "cell_type": "markdown",
      "metadata": {
        "id": "1Kp8nRiGRKmF"
      },
      "source": [
        "1e) Pick an intermediate layer from your convolutional neural network and visualize what patterns the network has learned\n",
        "*   Complete the following code that visualizes the patterns of the network\n",
        "*   Write a small description commenting on the visualized maps. What do you observe in the different visualizations of the feature maps?"
      ]
    },
    {
      "cell_type": "code",
      "metadata": {
        "id": "xk4FadJSRKmG",
        "colab": {
          "base_uri": "https://localhost:8080/",
          "height": 844
        },
        "outputId": "9a88b9b8-7a4b-4210-b8d5-8c8dd0a4a038"
      },
      "source": [
        "import sys\n",
        "from skimage import io\n",
        "import torchvision.utils as vutils\n",
        "\n",
        "##function for printing the loss during optimization\n",
        "def write_flush(text, stream=sys.stdout):\n",
        "    stream.write(text)\n",
        "    stream.flush()\n",
        "    return\n",
        "\n",
        "## Number of feature maps in the intermediate layer that you have chosen. \n",
        "# *****START CODE\n",
        "n_conv = 16  # e.g 64\n",
        "# *****END CODE\n",
        "\n",
        "## Size of visualised filter.\n",
        "img_size = 32\n",
        "\n",
        "##load your optimal model\n",
        "# *****START CODE\n",
        "model = ConvNet()\n",
        "model.load_state_dict(torch.load('drive/My Drive/DSBA/FDL/model.pt')) \n",
        "# *****END CODE\n",
        "\n",
        "## Create a submodel, until the intermediate layer of your choice.\n",
        "## Hint: Use model.#name# to create the succession of layers, where #name#\n",
        "## stands for the layer names that you defined in the initialization function \n",
        "## of your model.\n",
        "# *****START CODE\n",
        "submodel = nn.Sequential(\n",
        "  nn.Conv2d(3,8,3,padding = 1),\n",
        "  nn.ReLU(inplace = True),\n",
        "  nn.MaxPool2d(2),\n",
        "\n",
        "  nn.Conv2d(8,16,3),\n",
        "  nn.ReLU(inplace = True)\n",
        "            \n",
        ")\n",
        "# *****END CODE\n",
        "\n",
        "## Put submodel in eval mode.\n",
        "submodel.eval()\n",
        "\n",
        "## Tensor to visualised filters. \n",
        "img_stack = torch.zeros((n_conv, 3, img_size, img_size))\n",
        "\n",
        "## Number of epochs to run for every filter. \n",
        "# *****START CODE\n",
        "n_epochs_per_filt = 300 #e.g 30\n",
        "# *****END CODE\n",
        "\n",
        "## Visualise every convolution. \n",
        "for c in range(n_conv):\n",
        "    ## Initialise with random image. \n",
        "    img = torch.rand(1, 3, img_size, img_size).float()\n",
        "\n",
        "    ## Turn on gradient calculation on the image\n",
        "    # *****START CODE\n",
        "    img.requires_grad_()\n",
        "    # *****END CODE\n",
        "\n",
        "    ## Define optimizer.\n",
        "    # *****START CODE\n",
        "    optimizer = torch.optim.SGD([img], lr=30)\n",
        "    # *****END CODE\n",
        "    \n",
        "    for f in range(n_epochs_per_filt):\n",
        "        optimizer.zero_grad()\n",
        "\n",
        "        ## Feedforward propagation\n",
        "        ## Hint: In order to find the loss, compupte the negative of the activation of the hidden layer. \n",
        "        ## The objective is to produce an input image which maximizes the activation \n",
        "        ## of neurons in a particular hidden layer. \n",
        "        # *****START CODE\n",
        "        activation = submodel(img)\n",
        "        loss = (-1 * activation[0][c]).sum()\n",
        "        loss.backward()\n",
        "        optimizer.step()\n",
        "\n",
        "        if loss > -0.01:\n",
        "          img = torch.rand(1, 3, img_size, img_size).float().requires_grad_()\n",
        "          optimizer = torch.optim.SGD([img], lr=30)\n",
        "\n",
        "        #loss = negative of the activation layer -> lower loss implies in a lot of activations!\n",
        "        # *****END CODE\n",
        "        write_flush('\\rFilter %d. Epoch %d. Loss = %.4f'%(c, f+1, loss.item()))\n",
        "\n",
        "    write_flush('\\n')\n",
        "    img_stack[c, :, :, :] = img[0].detach()\n",
        "\n",
        "## Make grid out of visualized filters. \n",
        "##Here you may have to adjust the properties of vutils.make_grid, depending on your needs. \n",
        "##For example, you may need to change the number of rows.\n",
        "G = vutils.make_grid(img_stack, nrow=8, normalize=True, padding=1).permute(1,2,0).numpy()\n",
        "plt.figure(figsize=(20,10))\n",
        "plt.imshow(G)\n",
        "plt.axis('equal')\n",
        "plt.axis('off')\n",
        "plt.show()"
      ],
      "execution_count": null,
      "outputs": [
        {
          "output_type": "stream",
          "text": [
            "Filter 0. Epoch 300. Loss = -145593.1094\n",
            "Filter 1. Epoch 300. Loss = -328457.4062\n",
            "Filter 2. Epoch 300. Loss = -160580.7656\n",
            "Filter 3. Epoch 300. Loss = -292187.1875\n",
            "Filter 4. Epoch 300. Loss = -27055.1602\n",
            "Filter 5. Epoch 300. Loss = -104265.2578\n",
            "Filter 6. Epoch 300. Loss = 0.0000\n",
            "Filter 7. Epoch 300. Loss = -158617.6406\n",
            "Filter 8. Epoch 300. Loss = -50091.4688\n",
            "Filter 9. Epoch 300. Loss = -431831.5000\n",
            "Filter 10. Epoch 300. Loss = -65098.2031\n",
            "Filter 11. Epoch 300. Loss = -232972.9844\n",
            "Filter 12. Epoch 300. Loss = -159708.8125\n",
            "Filter 13. Epoch 300. Loss = -149874.6875\n",
            "Filter 14. Epoch 300. Loss = -256401.9375\n",
            "Filter 15. Epoch 300. Loss = -24809.4219\n"
          ],
          "name": "stdout"
        },
        {
          "output_type": "display_data",
          "data": {
            "image/png": "[encoded data removed]",
            "text/plain": [
              "<Figure size 1440x720 with 1 Axes>"
            ]
          },
          "metadata": {
            "tags": [],
            "needs_background": "light"
          }
        }
      ]
    },
    {
      "cell_type": "markdown",
      "metadata": {
        "id": "gwPNkM4m7IbV"
      },
      "source": [
        "**It seems that on this layer, the convolutions are focused on the color and the \"texture\" of the image. While the images are low-res and the chosen layer comes quite early in the network, we can already see the different noise patterns emerging as well as some details regarding the color choice and variety.** \r\n",
        "\r\n",
        "**Also notice that some images get stuck into a local minimum at the start and cannot get out. While a solution was implemented for most of these scenarios, promoting a new random initialization on the case of getting stuck, this unfortunately is not effective on every case. Regardless, the overall visualizations are obtained in this method for all filters and this can easily be adjusted for analysing a specific filter that might skip due to these bad initializations**"
      ]
    },
    {
      "cell_type": "markdown",
      "metadata": {
        "id": "o3QK7dhJRKmH"
      },
      "source": [
        "### Question 2 - Train on geometrical shapes"
      ]
    },
    {
      "cell_type": "markdown",
      "metadata": {
        "id": "-yudhcXrRKmH"
      },
      "source": [
        "Function 'generate_a_triangle' produces images depicting random triangles along with the (x,y) coordinates of the vertices. Create a convolutional neural network that receives as input the triangle image and predicts the corresponding (x,y) coordinates of the triangle's vertices. \n",
        "*  Read and understand the following code"
      ]
    },
    {
      "cell_type": "code",
      "metadata": {
        "id": "aptobJOZbRZd",
        "colab": {
          "base_uri": "https://localhost:8080/",
          "height": 268
        },
        "outputId": "c8c61561-1a94-466e-c846-7218d42cfa2a"
      },
      "source": [
        "import matplotlib.pyplot as plt\n",
        "%matplotlib inline\n",
        "import numpy as np\n",
        "\n",
        "# On some implementations of matplotlib, you may need to change this value\n",
        "IMAGE_SIZE = 72\n",
        "\n",
        "def generate_a_drawing(figsize, U, V):\n",
        "    fig = plt.figure(figsize=(figsize,figsize))\n",
        "    ax = plt.subplot(111)\n",
        "    plt.axis('Off')\n",
        "    ax.set_xlim(0,figsize)\n",
        "    ax.set_ylim(0,figsize)\n",
        "    ax.fill(U, V, \"k\")\n",
        "    fig.canvas.draw()\n",
        "    imdata = np.frombuffer(fig.canvas.tostring_rgb(), dtype=np.uint8)[::3].astype(np.float32)\n",
        "    imdata = imdata + np.random.random(imdata.size)\n",
        "    plt.close(fig)\n",
        "    return imdata\n",
        "\n",
        "def generate_a_triangle():\n",
        "    figsize = 1.0\n",
        "    U = np.random.random(3)\n",
        "    V = np.random.random(3)\n",
        "    imdata = generate_a_drawing(figsize, U, V)\n",
        "    return [imdata, [U[0], V[0], U[1], V[1], U[2], V[2]]]\n",
        "\n",
        "[im, v] = generate_a_triangle()\n",
        "plt.imshow(im.reshape(IMAGE_SIZE,IMAGE_SIZE), cmap='gray')\n",
        "\n",
        "def generate_dataset_regression(nb_samples):\n",
        "    # Getting im_size:\n",
        "    im_size = generate_a_triangle()[0].shape[0]\n",
        "    X = np.zeros([nb_samples,im_size])\n",
        "    Y = np.zeros([nb_samples, 6])\n",
        "    print('Creating data:')\n",
        "    for i in range(nb_samples):\n",
        "        if i % 50 == 0:\n",
        "            print(i)\n",
        "        [X[i], Y[i]] = generate_a_triangle()\n",
        "    X = X / 255\n",
        "    return [X, Y]\n",
        "\n",
        "import matplotlib.patches as patches\n",
        "\n",
        "def visualize_prediction(x, y):\n",
        "    fig, ax = plt.subplots(figsize=(5, 5))\n",
        "    I = x.reshape((IMAGE_SIZE,IMAGE_SIZE))\n",
        "    ax.imshow(I, extent=[-0.15,1.15,-0.15,1.15],cmap='gray')\n",
        "    ax.set_xlim([0,1])\n",
        "    ax.set_ylim([0,1])\n",
        "\n",
        "    xy = y.reshape(3,2)\n",
        "    tri = patches.Polygon(xy, closed=True, fill = False, edgecolor = 'r', linewidth = 5, alpha = 0.5)\n",
        "    ax.add_patch(tri)\n",
        "\n",
        "    plt.show()\n",
        "\n",
        "def generate_test_set_regression():\n",
        "    np.random.seed(42)\n",
        "    [X_test, Y_test] = generate_dataset_regression(300)\n",
        "    return [X_test, Y_test]"
      ],
      "execution_count": null,
      "outputs": [
        {
          "output_type": "display_data",
          "data": {
            "image/png": "[encoded data removed]",
            "text/plain": [
              "<Figure size 432x288 with 1 Axes>"
            ]
          },
          "metadata": {
            "tags": [],
            "needs_background": "light"
          }
        }
      ]
    },
    {
      "cell_type": "markdown",
      "metadata": {
        "id": "clB8r3jMRKmI"
      },
      "source": [
        "2a) Use function 'generate_dataset_regression' to create the dataset. Split the dataset to training and validation parts."
      ]
    },
    {
      "cell_type": "code",
      "metadata": {
        "id": "6Y7mW83fRKmJ"
      },
      "source": [
        "## We will abstract the 2a and 2b into a new custom Dataset from Pytorch\n",
        "from  torch.utils.data import Dataset\n",
        "##generate dataset\n",
        "# *****START CODE\n",
        "class TriangleDataset(Dataset):\n",
        "  def __init__(self, n_samples=300, is_test=False):\n",
        "      if not is_test:\n",
        "        self.X, self.y = generate_dataset_regression(n_samples)\n",
        "      else:\n",
        "        self.X, self.y = generate_test_set_regression()\n",
        "  def __len__(self):\n",
        "      return len(self.X)\n",
        "  def __getitem__(self, idx):\n",
        "      return self.X[idx, :], self.y[idx, :]\n",
        "\n",
        "\n",
        "# See 2b code section for these implementations\n",
        "#train_dataset = torch.utils.data.DataLoader(TriangleDataset(600), batch_size=32, shuffle=True)\n",
        "#val_dataset = torch.utils.data.DataLoader(TriangleDataset(200), batch_size=32, shuffle=True)\n",
        "#test_dataset = torch.utils.data.DataLoader(TriangleDataset(is_test=True), batch_size=32, shuffle=True)\n",
        "\n",
        "# *****END CODE"
      ],
      "execution_count": null,
      "outputs": []
    },
    {
      "cell_type": "code",
      "metadata": {
        "id": "xIwVanB4RKmK",
        "colab": {
          "base_uri": "https://localhost:8080/"
        },
        "outputId": "69aca861-ede9-413f-ee9e-8772ed32061a"
      },
      "source": [
        "##split the dataset to training and validation parts\n",
        "import torch\n",
        "# *****START CODE\n",
        "BATCH_SIZE = 8\n",
        "\n",
        "train_dataset = torch.utils.data.DataLoader(TriangleDataset(1000), batch_size=BATCH_SIZE, shuffle=True)\n",
        "val_dataset = torch.utils.data.DataLoader(TriangleDataset(200), batch_size=BATCH_SIZE, shuffle=True)\n",
        "\n",
        "# *****END CODE"
      ],
      "execution_count": null,
      "outputs": [
        {
          "output_type": "stream",
          "text": [
            "Creating data:\n",
            "0\n",
            "50\n",
            "100\n",
            "150\n",
            "200\n",
            "250\n",
            "300\n",
            "350\n",
            "400\n",
            "450\n",
            "500\n",
            "550\n",
            "600\n",
            "650\n",
            "700\n",
            "750\n",
            "800\n",
            "850\n",
            "900\n",
            "950\n",
            "Creating data:\n",
            "0\n",
            "50\n",
            "100\n",
            "150\n"
          ],
          "name": "stdout"
        }
      ]
    },
    {
      "cell_type": "markdown",
      "metadata": {
        "id": "NEoZyhgZRKmK"
      },
      "source": [
        "2b) Use function 'generate_test_set' to create the testing dataset."
      ]
    },
    {
      "cell_type": "code",
      "metadata": {
        "id": "PE6e3nszRKmK",
        "colab": {
          "base_uri": "https://localhost:8080/"
        },
        "outputId": "3d9ae7ce-6dce-41e2-fdd5-2ec2b8c66679"
      },
      "source": [
        "##generate test dataset\n",
        "# *****START CODE\n",
        "test_dataset = torch.utils.data.DataLoader(TriangleDataset(is_test=True), batch_size=BATCH_SIZE, shuffle=True)\n",
        "# *****END CODE"
      ],
      "execution_count": null,
      "outputs": [
        {
          "output_type": "stream",
          "text": [
            "Creating data:\n",
            "0\n",
            "50\n",
            "100\n",
            "150\n",
            "200\n",
            "250\n"
          ],
          "name": "stdout"
        }
      ]
    },
    {
      "cell_type": "markdown",
      "metadata": {
        "id": "tcsDj8eQRKmK"
      },
      "source": [
        "2c) Create your convolutional neural network.\n",
        "* Similarly to the previous exercise construct your network and choose your modules\n",
        "* Optimize the architecture to perform well on predicting the different coordinates"
      ]
    },
    {
      "cell_type": "code",
      "metadata": {
        "id": "hQYXQV5LRKmL"
      },
      "source": [
        "# We will use a similar architecture than our previous example, except for \n",
        "\n",
        "import torch\n",
        "import torch.nn as nn\n",
        "import torch.nn.functional as F\n",
        "\n",
        "# *****START CODE\n",
        "class ConvNetR(nn.Module):\n",
        "    def __init__(self):\n",
        "        super(ConvNetR, self).__init__()\n",
        "\n",
        "        self.convolutional = nn.Sequential(\n",
        "            nn.Conv2d(1,4,3,padding = 1),\n",
        "            nn.ReLU(inplace = True),\n",
        "            nn.Conv2d(4,8,3,padding = 1),\n",
        "            nn.ReLU(inplace = True),\n",
        "            nn.MaxPool2d(2),\n",
        "\n",
        "            nn.Conv2d(8,8,3),\n",
        "            nn.ReLU(inplace = True),\n",
        "            nn.Conv2d(8,8,3,padding = 1),\n",
        "            nn.ReLU(inplace = True),\n",
        "            nn.MaxPool2d(2),\n",
        "\n",
        "            nn.Conv2d(8,8,3),\n",
        "            nn.ReLU(inplace = True),\n",
        "            nn.Conv2d(8,16,3,padding = 1),\n",
        "            nn.ReLU(inplace = True),\n",
        "            nn.MaxPool2d(2),\n",
        "            \n",
        "            nn.Conv2d(16,16,3),\n",
        "            nn.ReLU(inplace = True),\n",
        "            nn.Conv2d(16,32,3,padding = 1),\n",
        "            nn.ReLU(inplace = True),\n",
        "            nn.MaxPool2d(2)\n",
        "            \n",
        "        )\n",
        "\n",
        "        self.fc = nn.Sequential(\n",
        "            nn.Linear(128 , 128 * 4),\n",
        "            nn.ReLU(inplace = True),\n",
        "            nn.Linear(128* 4, 128* 4),\n",
        "            nn.ReLU(inplace = True),\n",
        "            nn.Linear(128 * 4, 6)\n",
        "        )\n",
        "\n",
        "\n",
        "    def forward(self, x):\n",
        "        v = x.view(-1, 1, 72, 72)\n",
        "        x = self.convolutional(v)\n",
        "        #print(x.size())\n",
        "        v = x.view(x.shape[0], -1)\n",
        "        x = self.fc(v)\n",
        "        return x\n",
        "\n",
        "# *****END CODE"
      ],
      "execution_count": null,
      "outputs": []
    },
    {
      "cell_type": "markdown",
      "metadata": {
        "id": "U6PxmyfqRKmM"
      },
      "source": [
        "2d) Define model, optimizer, criterion and number of epochs."
      ]
    },
    {
      "cell_type": "code",
      "metadata": {
        "id": "vS9LIDmlRKmM"
      },
      "source": [
        "# *****START CODE\n",
        "device = torch.device(\"cuda:0\" if torch.cuda.is_available() else \"cpu\")\n",
        "model = ConvNetR().to(device)\n",
        "\n",
        "optimizer = torch.optim.SGD(model.parameters(), lr=0.01, momentum=0.5)\n",
        "criterion = nn.MSELoss()\n",
        "epochs = 30\n",
        "# *****END CODE"
      ],
      "execution_count": null,
      "outputs": []
    },
    {
      "cell_type": "markdown",
      "metadata": {
        "id": "JNtKYgzTRKmM"
      },
      "source": [
        "2e) What criterion did you choose and why?\n",
        "* Write a small description for the loss function that you want to use for this specific problem.\n",
        "* What was your intuition for using this loss?"
      ]
    },
    {
      "cell_type": "markdown",
      "metadata": {
        "id": "0NaHn9c2Gwmj"
      },
      "source": [
        "**The MSE Loss function is a function that captures the sum of the squared distances between the estimated points and the actual points. Therefore, the closer the distance between the estimation and the ground truth, the lower the loss**\r\n",
        "\r\n",
        "**The choice for the MSE loss function is based on the fact that not only it captures distance (L2 distance), thus prioritizing closer estimations, but also because it is grounded on the concepts of geometric distance (as in, points in a plane). This provides a rather direct duality between the our learning target (the points of the triangle) and the loss function.** "
      ]
    },
    {
      "cell_type": "markdown",
      "metadata": {
        "id": "HmjN0W-KRKmN"
      },
      "source": [
        "2f) Train your model and validate it at the end of each epoch.\n",
        "* Similarly to the previous question train and validate your network for each epoch\n",
        "* Write a small description on how you decide which is the optimal epoch\n",
        "* Use this epoch and evaluate your model on the test set\n",
        "* Visualise some predictions using the function 'visualize_prediction'\n",
        "* What do you observe?"
      ]
    },
    {
      "cell_type": "code",
      "metadata": {
        "id": "VZfRftoFRKmN",
        "colab": {
          "base_uri": "https://localhost:8080/"
        },
        "outputId": "08d7fb57-e74e-47d3-c195-2d9ec0c04ed8"
      },
      "source": [
        "# *****START CODE\n",
        "train_loss_epochs = []\n",
        "val_loss_epochs = []\n",
        "\n",
        "for epoch in range(1, epochs+1):\n",
        "    running_loss = 0.0\n",
        "    iters = 0\n",
        "\n",
        "    # Training \n",
        "    model.train()\n",
        "    for i, data in enumerate(train_dataset, 0):\n",
        "        \n",
        "        # Turning on training mode for the network\n",
        "        img_batch, lbl_batch = data[0].type(torch.cuda.FloatTensor), data[1].type(torch.cuda.FloatTensor)\n",
        "\n",
        "        \n",
        "        optimizer.zero_grad()\n",
        "        outputs = model(img_batch)\n",
        "        loss = criterion(outputs, lbl_batch)\n",
        "\n",
        "        \n",
        "        loss.backward()\n",
        "        optimizer.step()\n",
        "\n",
        "        # print statistics\n",
        "        running_loss += float(loss.detach().item())\n",
        "        iters += 1\n",
        "\n",
        "        if i+1 % 400 == 0:\n",
        "          print(f\"Epoch {epoch} - Train Loss at {i}: {running_loss / iters}\")\n",
        "          \n",
        "    print(f\"Training for epoch {epoch} finished with average MSE loss of: {running_loss / iters}\")\n",
        "    train_loss_epochs.append(running_loss/iters)\n",
        "\n",
        "\n",
        "    running_loss = 0.0\n",
        "    iters = 0\n",
        "    # Validation \n",
        "    model.eval()\n",
        "    for i, data in enumerate(val_dataset, 0):\n",
        "\n",
        "\n",
        "        img_batch, lbl_batch = data[0].type(torch.cuda.FloatTensor), data[1].type(torch.cuda.FloatTensor)\n",
        "\n",
        "        optimizer.zero_grad()\n",
        "\n",
        "        outputs = model(img_batch.to(device))\n",
        "        loss = criterion(outputs, lbl_batch.to(device))\n",
        "\n",
        "        # print statistics\n",
        "        running_loss += float(loss.detach().item())\n",
        "        iters += 1\n",
        "\n",
        "        #if i % 200 == 0:\n",
        "        #  print(f\"Epoch {epoch} - Validation Loss at {i}: {running_loss / iters}\")\n",
        "\n",
        "    print(f\"Validation for epoch {epoch} finished with average MSE loss of: {running_loss / iters}\")\n",
        "    val_loss_epochs.append(running_loss/iters)\n",
        "    \n",
        "print('Finished Training')\n",
        "\n",
        "\n",
        "# *****END CODE"
      ],
      "execution_count": null,
      "outputs": [
        {
          "output_type": "stream",
          "text": [
            "Training for epoch 1 finished with average MSE loss of: 0.1686137003302574\n",
            "Validation for epoch 1 finished with average MSE loss of: 0.09151278838515281\n",
            "Training for epoch 2 finished with average MSE loss of: 0.08600283125042915\n",
            "Validation for epoch 2 finished with average MSE loss of: 0.08467488765716552\n",
            "Training for epoch 3 finished with average MSE loss of: 0.08427719059586525\n",
            "Validation for epoch 3 finished with average MSE loss of: 0.08484845459461213\n",
            "Training for epoch 4 finished with average MSE loss of: 0.08429683429002761\n",
            "Validation for epoch 4 finished with average MSE loss of: 0.08476885125041007\n",
            "Training for epoch 5 finished with average MSE loss of: 0.08428481140732766\n",
            "Validation for epoch 5 finished with average MSE loss of: 0.08489216417074204\n",
            "Training for epoch 6 finished with average MSE loss of: 0.08433012345433236\n",
            "Validation for epoch 6 finished with average MSE loss of: 0.08481399327516556\n",
            "Training for epoch 7 finished with average MSE loss of: 0.08430869191884995\n",
            "Validation for epoch 7 finished with average MSE loss of: 0.08488155335187912\n",
            "Training for epoch 8 finished with average MSE loss of: 0.0843187518119812\n",
            "Validation for epoch 8 finished with average MSE loss of: 0.08484525352716446\n",
            "Training for epoch 9 finished with average MSE loss of: 0.08432643908262252\n",
            "Validation for epoch 9 finished with average MSE loss of: 0.08481583535671235\n",
            "Training for epoch 10 finished with average MSE loss of: 0.08427230006456375\n",
            "Validation for epoch 10 finished with average MSE loss of: 0.08466099977493285\n",
            "Training for epoch 11 finished with average MSE loss of: 0.0843294062614441\n",
            "Validation for epoch 11 finished with average MSE loss of: 0.08486297115683555\n",
            "Training for epoch 12 finished with average MSE loss of: 0.08429702496528625\n",
            "Validation for epoch 12 finished with average MSE loss of: 0.0848499608039856\n",
            "Training for epoch 13 finished with average MSE loss of: 0.08430957850813865\n",
            "Validation for epoch 13 finished with average MSE loss of: 0.08466562300920487\n",
            "Training for epoch 14 finished with average MSE loss of: 0.08433017519116402\n",
            "Validation for epoch 14 finished with average MSE loss of: 0.08483410775661468\n",
            "Training for epoch 15 finished with average MSE loss of: 0.08431192463636399\n",
            "Validation for epoch 15 finished with average MSE loss of: 0.08496820241212845\n",
            "Training for epoch 16 finished with average MSE loss of: 0.08430321991443634\n",
            "Validation for epoch 16 finished with average MSE loss of: 0.0849636572599411\n",
            "Training for epoch 17 finished with average MSE loss of: 0.08429352509975434\n",
            "Validation for epoch 17 finished with average MSE loss of: 0.08495169907808303\n",
            "Training for epoch 18 finished with average MSE loss of: 0.08431809538602829\n",
            "Validation for epoch 18 finished with average MSE loss of: 0.08480592429637909\n",
            "Training for epoch 19 finished with average MSE loss of: 0.0843116220831871\n",
            "Validation for epoch 19 finished with average MSE loss of: 0.08471526935696602\n",
            "Training for epoch 20 finished with average MSE loss of: 0.08431839355826377\n",
            "Validation for epoch 20 finished with average MSE loss of: 0.08482124954462052\n",
            "Training for epoch 21 finished with average MSE loss of: 0.08430644804239273\n",
            "Validation for epoch 21 finished with average MSE loss of: 0.08472973734140396\n",
            "Training for epoch 22 finished with average MSE loss of: 0.08429296934604645\n",
            "Validation for epoch 22 finished with average MSE loss of: 0.08462876796722413\n",
            "Training for epoch 23 finished with average MSE loss of: 0.08433374217152595\n",
            "Validation for epoch 23 finished with average MSE loss of: 0.08481313064694404\n",
            "Training for epoch 24 finished with average MSE loss of: 0.08431785193085671\n",
            "Validation for epoch 24 finished with average MSE loss of: 0.0848955351114273\n",
            "Training for epoch 25 finished with average MSE loss of: 0.0843167815208435\n",
            "Validation for epoch 25 finished with average MSE loss of: 0.08495384186506272\n",
            "Training for epoch 26 finished with average MSE loss of: 0.08431068754196167\n",
            "Validation for epoch 26 finished with average MSE loss of: 0.08476116836071014\n",
            "Training for epoch 27 finished with average MSE loss of: 0.08431865841150284\n",
            "Validation for epoch 27 finished with average MSE loss of: 0.08471359133720398\n",
            "Training for epoch 28 finished with average MSE loss of: 0.08429007917642593\n",
            "Validation for epoch 28 finished with average MSE loss of: 0.08488911032676696\n",
            "Training for epoch 29 finished with average MSE loss of: 0.08431362119317055\n",
            "Validation for epoch 29 finished with average MSE loss of: 0.08487246185541153\n",
            "Training for epoch 30 finished with average MSE loss of: 0.08429028117656708\n",
            "Validation for epoch 30 finished with average MSE loss of: 0.08488868176937103\n",
            "Finished Training\n"
          ],
          "name": "stdout"
        }
      ]
    },
    {
      "cell_type": "code",
      "metadata": {
        "id": "6RhjDtotWCMz",
        "colab": {
          "base_uri": "https://localhost:8080/",
          "height": 295
        },
        "outputId": "785270de-c679-4e12-f14e-be9109c9a7cd"
      },
      "source": [
        "\r\n",
        "plt.title('MSE Loss')\r\n",
        "plt.plot(train_loss_epochs, color='blue', label='train')\r\n",
        "plt.plot(val_loss_epochs, color='orange', label='test')\r\n",
        "plt.xlabel(\"Epoch\")\r\n",
        "plt.ylabel(\"MSE Loss\")\r\n",
        "plt.xticks(np.arange(0, epochs, 2))\r\n",
        "\r\n",
        "plt.show()"
      ],
      "execution_count": null,
      "outputs": [
        {
          "output_type": "display_data",
          "data": {
            "image/png": "[encoded data removed]",
            "text/plain": [
              "<Figure size 432x288 with 1 Axes>"
            ]
          },
          "metadata": {
            "tags": [],
            "needs_background": "light"
          }
        }
      ]
    },
    {
      "cell_type": "markdown",
      "metadata": {
        "id": "tli75hAJWHz9"
      },
      "source": [
        "**Differently from the first exercise, we don't see the presence of overfitting on this problem. However, we see that there is pretty much no learning after around epoch 4, as the model has already found a local minima. Therefore, we can use it as basis for our final model to be runned on test.**"
      ]
    },
    {
      "cell_type": "code",
      "metadata": {
        "colab": {
          "base_uri": "https://localhost:8080/"
        },
        "id": "s66yOwV3RJW6",
        "outputId": "3480839e-fa3f-442a-e64f-8b2d8d5bfaf6"
      },
      "source": [
        "def weight_reset(m):\r\n",
        "    if isinstance(m, nn.Conv2d) or isinstance(m, nn.Linear):\r\n",
        "        m.reset_parameters()\r\n",
        "\r\n",
        "model.apply(weight_reset)"
      ],
      "execution_count": null,
      "outputs": [
        {
          "output_type": "execute_result",
          "data": {
            "text/plain": [
              "ConvNetR(\n",
              "  (convolutional): Sequential(\n",
              "    (0): Conv2d(1, 4, kernel_size=(3, 3), stride=(1, 1), padding=(1, 1))\n",
              "    (1): ReLU(inplace=True)\n",
              "    (2): Conv2d(4, 8, kernel_size=(3, 3), stride=(1, 1), padding=(1, 1))\n",
              "    (3): ReLU(inplace=True)\n",
              "    (4): MaxPool2d(kernel_size=2, stride=2, padding=0, dilation=1, ceil_mode=False)\n",
              "    (5): Conv2d(8, 8, kernel_size=(3, 3), stride=(1, 1))\n",
              "    (6): ReLU(inplace=True)\n",
              "    (7): Conv2d(8, 8, kernel_size=(3, 3), stride=(1, 1), padding=(1, 1))\n",
              "    (8): ReLU(inplace=True)\n",
              "    (9): MaxPool2d(kernel_size=2, stride=2, padding=0, dilation=1, ceil_mode=False)\n",
              "    (10): Conv2d(8, 8, kernel_size=(3, 3), stride=(1, 1))\n",
              "    (11): ReLU(inplace=True)\n",
              "    (12): Conv2d(8, 16, kernel_size=(3, 3), stride=(1, 1), padding=(1, 1))\n",
              "    (13): ReLU(inplace=True)\n",
              "    (14): MaxPool2d(kernel_size=2, stride=2, padding=0, dilation=1, ceil_mode=False)\n",
              "    (15): Conv2d(16, 16, kernel_size=(3, 3), stride=(1, 1))\n",
              "    (16): ReLU(inplace=True)\n",
              "    (17): Conv2d(16, 32, kernel_size=(3, 3), stride=(1, 1), padding=(1, 1))\n",
              "    (18): ReLU(inplace=True)\n",
              "    (19): MaxPool2d(kernel_size=2, stride=2, padding=0, dilation=1, ceil_mode=False)\n",
              "  )\n",
              "  (fc): Sequential(\n",
              "    (0): Linear(in_features=128, out_features=512, bias=True)\n",
              "    (1): ReLU(inplace=True)\n",
              "    (2): Linear(in_features=512, out_features=512, bias=True)\n",
              "    (3): ReLU(inplace=True)\n",
              "    (4): Linear(in_features=512, out_features=6, bias=True)\n",
              "  )\n",
              ")"
            ]
          },
          "metadata": {
            "tags": []
          },
          "execution_count": 186
        }
      ]
    },
    {
      "cell_type": "code",
      "metadata": {
        "colab": {
          "base_uri": "https://localhost:8080/"
        },
        "id": "XBcfBBi9c1IY",
        "outputId": "7a026270-368f-42bd-f277-f21b4efae064"
      },
      "source": [
        "# Training until the designed epoch\r\n",
        "epochs = 4\r\n",
        "for epoch in range(1, epochs+1):\r\n",
        "    running_loss = 0.0\r\n",
        "    iters = 0\r\n",
        "    # Training\r\n",
        "    \r\n",
        "    model.train() \r\n",
        "    for i, data in enumerate(train_dataset, 0):\r\n",
        "        \r\n",
        "        # Turning on training mode for the network\r\n",
        "        \r\n",
        "        img_batch, lbl_batch = data\r\n",
        "\r\n",
        "        optimizer.zero_grad()\r\n",
        "        outputs = model(img_batch.to(device, dtype=torch.float))\r\n",
        "        loss = criterion(outputs, lbl_batch.to(device, dtype=torch.float))\r\n",
        "        loss.backward()\r\n",
        "        optimizer.step()\r\n",
        "\r\n",
        "        # print statistics\r\n",
        "        running_loss += float(loss.detach().item())\r\n",
        "        iters += 1\r\n",
        "\r\n",
        "    print(f\"Training for epoch {epoch} finished with average MSE loss of: {running_loss / iters}\")\r\n"
      ],
      "execution_count": null,
      "outputs": [
        {
          "output_type": "stream",
          "text": [
            "Training for epoch 1 finished with average MSE loss of: 0.16359819316864013\n",
            "Training for epoch 2 finished with average MSE loss of: 0.08542205929756165\n",
            "Training for epoch 3 finished with average MSE loss of: 0.08432874131202697\n",
            "Training for epoch 4 finished with average MSE loss of: 0.08430779588222503\n"
          ],
          "name": "stdout"
        }
      ]
    },
    {
      "cell_type": "code",
      "metadata": {
        "id": "tN0qUO46dPY2",
        "colab": {
          "base_uri": "https://localhost:8080/"
        },
        "outputId": "18300ff6-04d1-42c1-ee81-4b9cbd6434dd"
      },
      "source": [
        "# Running on test\r\n",
        "\r\n",
        "running_loss = 0.0\r\n",
        "iters = 0\r\n",
        "# Training\r\n",
        "\r\n",
        "model.eval() \r\n",
        "for i, data in enumerate(test_dataset, 0):\r\n",
        "    \r\n",
        "    # Turning on training mode for the network\r\n",
        "    \r\n",
        "    img_batch, lbl_batch = data\r\n",
        "\r\n",
        "    outputs = model(img_batch.to(device, dtype=torch.float))\r\n",
        "    loss = criterion(outputs, lbl_batch.to(device, dtype=torch.float))\r\n",
        "\r\n",
        "    # print statistics\r\n",
        "    running_loss += float(loss.detach().item())\r\n",
        "    iters += 1\r\n",
        "\r\n",
        "print(f\"Test finished with average MSE loss of: {running_loss / iters}\")"
      ],
      "execution_count": null,
      "outputs": [
        {
          "output_type": "stream",
          "text": [
            "Test finished with average MSE loss of: 0.08630630756287198\n"
          ],
          "name": "stdout"
        }
      ]
    },
    {
      "cell_type": "markdown",
      "metadata": {
        "id": "U_T8jBdLRf0z"
      },
      "source": [
        "**It seems the model is rather stable at a local minima of 0.86. However, it seems a rather high value for the final result. We can inspect that value to see if it is really guessing correctly the edges**"
      ]
    },
    {
      "cell_type": "code",
      "metadata": {
        "colab": {
          "base_uri": "https://localhost:8080/",
          "height": 324
        },
        "id": "nPyigVQGQy-H",
        "outputId": "aaae9652-7cf4-4410-af5f-fec099121307"
      },
      "source": [
        "batch, _ = next(iter(test_dataset))\r\n",
        "image = batch[0, :]\r\n",
        "outputs = model(image.to(device, dtype=torch.float))\r\n",
        "\r\n",
        "image = image.cpu()\r\n",
        "outputs = outputs.detach().cpu()\r\n",
        "\r\n",
        "visualize_prediction(image, outputs)"
      ],
      "execution_count": null,
      "outputs": [
        {
          "output_type": "display_data",
          "data": {
            "image/png": "[encoded data removed]",
            "text/plain": [
              "<Figure size 360x360 with 1 Axes>"
            ]
          },
          "metadata": {
            "tags": [],
            "needs_background": "light"
          }
        }
      ]
    },
    {
      "cell_type": "markdown",
      "metadata": {
        "id": "NchnaZGXUJaP"
      },
      "source": [
        "**It seems that the network is prioritizing the non-commital approach of choosing only the middle points. That gives it reliable saddle points in the center, however it learns nothing! Thus, we need to consider different approaches in how can we change the problem definition so that the model actually attempts to find the edges and does not get stuck into these minima.**\r\n",
        "\r\n",
        "**One such way is by changing the optimizer function**"
      ]
    },
    {
      "cell_type": "code",
      "metadata": {
        "id": "rfi5XdI6aRN6"
      },
      "source": [
        "\r\n",
        "def weight_reset(m):\r\n",
        "    if isinstance(m, nn.Conv2d) or isinstance(m, nn.Linear):\r\n",
        "        m.reset_parameters()\r\n",
        "\r\n",
        "model.apply(weight_reset)\r\n",
        "\r\n",
        "model = ConvNetR().to(device)\r\n",
        "\r\n",
        "optimizer = torch.optim.AdamW(model.parameters())\r\n",
        "criterion = nn.MSELoss()"
      ],
      "execution_count": null,
      "outputs": []
    },
    {
      "cell_type": "code",
      "metadata": {
        "id": "jTqLTm8LRKmN",
        "colab": {
          "base_uri": "https://localhost:8080/"
        },
        "outputId": "683202cf-c02e-4f24-bfbb-c4d1c6425b9f"
      },
      "source": [
        "# *****START CODE\n",
        "epochs = 30\n",
        "\n",
        "for epoch in range(1, epochs+1):\n",
        "    running_loss = 0.0\n",
        "    iters = 0\n",
        "    # Training\n",
        "    \n",
        "    model.train() \n",
        "    for i, data in enumerate(train_dataset, 0):\n",
        "        \n",
        "        # Turning on training mode for the network\n",
        "        \n",
        "        img_batch, lbl_batch = data\n",
        "        optimizer.zero_grad()\n",
        "        outputs = model(img_batch.to(device, dtype=torch.float))\n",
        "        loss = criterion(outputs, lbl_batch.to(device, dtype=torch.float))\n",
        "        loss.backward()\n",
        "        optimizer.step()\n",
        "\n",
        "        # print statistics\n",
        "        running_loss += float(loss.detach().item())\n",
        "        iters += 1\n",
        "\n",
        "\n",
        "    print(f\"Training for epoch {epoch} finished with average MSE loss of: {running_loss / iters}\")\n",
        "\n",
        "\n",
        "# *****END CODE"
      ],
      "execution_count": null,
      "outputs": [
        {
          "output_type": "stream",
          "text": [
            "Training for epoch 1 finished with average MSE loss of: 0.09656123104691505\n",
            "Training for epoch 2 finished with average MSE loss of: 0.07909924125671387\n",
            "Training for epoch 3 finished with average MSE loss of: 0.06224401563405991\n",
            "Training for epoch 4 finished with average MSE loss of: 0.06053092619776726\n",
            "Training for epoch 5 finished with average MSE loss of: 0.059558527797460556\n",
            "Training for epoch 6 finished with average MSE loss of: 0.05945772288739681\n",
            "Training for epoch 7 finished with average MSE loss of: 0.058989200383424756\n",
            "Training for epoch 8 finished with average MSE loss of: 0.05922952350974083\n",
            "Training for epoch 9 finished with average MSE loss of: 0.05873315984010696\n",
            "Training for epoch 10 finished with average MSE loss of: 0.05884484824538231\n",
            "Training for epoch 11 finished with average MSE loss of: 0.058164136797189715\n",
            "Training for epoch 12 finished with average MSE loss of: 0.05855498057603836\n",
            "Training for epoch 13 finished with average MSE loss of: 0.05855620139837265\n",
            "Training for epoch 14 finished with average MSE loss of: 0.05791180056333542\n",
            "Training for epoch 15 finished with average MSE loss of: 0.05767848089337349\n",
            "Training for epoch 16 finished with average MSE loss of: 0.0579486870020628\n",
            "Training for epoch 17 finished with average MSE loss of: 0.0574917573928833\n",
            "Training for epoch 18 finished with average MSE loss of: 0.05770020392537117\n",
            "Training for epoch 19 finished with average MSE loss of: 0.05724351650476456\n",
            "Training for epoch 20 finished with average MSE loss of: 0.05722913467884064\n",
            "Training for epoch 21 finished with average MSE loss of: 0.05682463246583939\n",
            "Training for epoch 22 finished with average MSE loss of: 0.05677460791170597\n",
            "Training for epoch 23 finished with average MSE loss of: 0.05659278482198715\n",
            "Training for epoch 24 finished with average MSE loss of: 0.056236026108264926\n",
            "Training for epoch 25 finished with average MSE loss of: 0.05575551225244999\n",
            "Training for epoch 26 finished with average MSE loss of: 0.05541589429974556\n",
            "Training for epoch 27 finished with average MSE loss of: 0.054815566450357435\n",
            "Training for epoch 28 finished with average MSE loss of: 0.05418133428692818\n",
            "Training for epoch 29 finished with average MSE loss of: 0.05356057944893837\n",
            "Training for epoch 30 finished with average MSE loss of: 0.05237445420026779\n"
          ],
          "name": "stdout"
        }
      ]
    },
    {
      "cell_type": "code",
      "metadata": {
        "id": "V-iILYc-o9rj",
        "colab": {
          "base_uri": "https://localhost:8080/",
          "height": 374
        },
        "outputId": "e12428e8-261c-467d-9f32-9ee8df3150bb"
      },
      "source": [
        "batch, result = next(iter(test_dataset))\r\n",
        "image = batch[0, :]\r\n",
        "outputs = model(image.to(device, dtype=torch.float))\r\n",
        "print(result[0, :])\r\n",
        "print(outputs)\r\n",
        "image = image.cpu()\r\n",
        "outputs = outputs.detach().cpu()\r\n",
        "\r\n",
        "visualize_prediction(image, outputs)"
      ],
      "execution_count": null,
      "outputs": [
        {
          "output_type": "stream",
          "text": [
            "tensor([0.6111, 0.0635, 0.1166, 0.4757, 0.2246, 0.5019], dtype=torch.float64)\n",
            "tensor([[0.2762, 0.3310, 0.3416, 0.3291, 0.3507, 0.3683]], device='cuda:0',\n",
            "       grad_fn=<AddmmBackward>)\n"
          ],
          "name": "stdout"
        },
        {
          "output_type": "display_data",
          "data": {
            "image/png": "[encoded data removed]",
            "text/plain": [
              "<Figure size 360x360 with 1 Axes>"
            ]
          },
          "metadata": {
            "tags": [],
            "needs_background": "light"
          }
        }
      ]
    },
    {
      "cell_type": "markdown",
      "metadata": {
        "id": "tS2okiSaioZx"
      },
      "source": [
        ""
      ]
    },
    {
      "cell_type": "markdown",
      "metadata": {
        "id": "zTCMv88pRKmN"
      },
      "source": [
        "2g) Think and implement a preprocessing step that can boost the accuracy of your network"
      ]
    },
    {
      "cell_type": "markdown",
      "metadata": {
        "id": "SOQj0iuo3R-d"
      },
      "source": [
        "**One issue with the current implementation of the triangle is that the vertices are not defined in a specific order. Therefore, for a given triangle, the vertices can be arranged into 3! different ways (1,2,3), (2,1,3) etc.**\r\n",
        "\r\n",
        "**This, of course, heavily compromises the capacity of the network in learning the desired behavior (that is, learning where the vertices are). Even if it guesses correctly the vertices locations, it is not always able to guess the random order in which they were allocated, resulting in high losses.**\r\n",
        "\r\n",
        "**This essentially meant that a perfect network under that mapping had a 1/6th of chance to get the right result, which hampers the learning capacity of the network.**\r\n",
        "\r\n",
        "**As previously discussed, this is a problem filled with local minima and saddle-points, so the generation of a order for the points is no silver bullet. However, it is a right step towards being able to train a model that works for solving the problem.**\r\n",
        "\r\n",
        "**While it is very likely for other preproecssing optimizations to improve even further the results (for example, preprocessing on a image processing library to extract the color boundary, reorganizing the tensor in order to better describe the 3 R2 points etc.), we will stick with only the aforementioned solution in order to provide a proof of concept for the continous improvement after this adjustement over thousands of samples.**"
      ]
    },
    {
      "cell_type": "code",
      "metadata": {
        "colab": {
          "base_uri": "https://localhost:8080/"
        },
        "id": "iNdGbfUqkQcY",
        "outputId": "16a6ef3a-2c74-43f7-a5ac-3657e865415b"
      },
      "source": [
        "def order_by_closest_to_origin(vertices):\r\n",
        "  result = []\r\n",
        "  for a in vertices:\r\n",
        "    dist = torch.Tensor([a[i] + a[i+1] for i in range(0, 6, 2)])\r\n",
        "    values, indices = dist.sort()\r\n",
        "    vertices = []\r\n",
        "    for i in range(3):\r\n",
        "      loc = np.where(indices==i)\r\n",
        "      vertices.append(a[loc[0][0]*2])\r\n",
        "      vertices.append(a[loc[0][0]*2 + 1])\r\n",
        "    vertices = torch.Tensor(vertices) \r\n",
        "    result.append(vertices)\r\n",
        "  result = torch.stack(result)\r\n",
        "  return result\r\n",
        "\r\n",
        "print(order_by_closest_to_origin(result))"
      ],
      "execution_count": null,
      "outputs": [
        {
          "output_type": "stream",
          "text": [
            "tensor([[0.6634, 0.5227, 0.5357, 0.2038, 0.8064, 0.3172],\n",
            "        [0.0724, 0.1062, 0.0434, 0.8406, 0.5109, 0.9914],\n",
            "        [0.6465, 0.6696, 0.2295, 0.3812, 0.8938, 0.1198],\n",
            "        [0.9612, 0.9498, 0.0348, 0.5799, 0.1564, 0.8189],\n",
            "        [0.8695, 0.5727, 0.0030, 0.8292, 0.3368, 0.7153],\n",
            "        [0.0580, 0.4606, 0.6191, 0.8352, 0.9191, 0.8629],\n",
            "        [0.3657, 0.6050, 0.9757, 0.9908, 0.1338, 0.2080],\n",
            "        [0.3125, 0.2762, 0.6283, 0.2652, 0.7875, 0.8817]])\n"
          ],
          "name": "stdout"
        }
      ]
    },
    {
      "cell_type": "code",
      "metadata": {
        "id": "bUrLdkDOarAi"
      },
      "source": [
        "\r\n",
        "def weight_reset(m):\r\n",
        "    if isinstance(m, nn.Conv2d) or isinstance(m, nn.Linear):\r\n",
        "        m.reset_parameters()\r\n",
        "\r\n",
        "model.apply(weight_reset)\r\n",
        "\r\n",
        "model = ConvNetR().to(device)\r\n",
        "\r\n",
        "optimizer = torch.optim.Adamax(model.parameters())\r\n",
        "criterion = nn.MSELoss()"
      ],
      "execution_count": null,
      "outputs": []
    },
    {
      "cell_type": "code",
      "metadata": {
        "colab": {
          "base_uri": "https://localhost:8080/",
          "height": 1000
        },
        "id": "FVc4x55NkGlk",
        "outputId": "fe21b157-5d32-4c69-89a0-53c9ae9d7462"
      },
      "source": [
        "# *****START CODE\r\n",
        "epochs = 300\r\n",
        "\r\n",
        "for epoch in range(1, epochs+1):\r\n",
        "    running_loss = 0.0\r\n",
        "    iters = 0\r\n",
        "    # Training\r\n",
        "    \r\n",
        "    model.train() \r\n",
        "    for i, data in enumerate(train_dataset, 0):\r\n",
        "        \r\n",
        "        # Turning on training mode for the network\r\n",
        "        \r\n",
        "        img_batch, lbl_batch = data\r\n",
        "\r\n",
        "        reordered_lbl = order_by_closest_to_origin(lbl_batch)\r\n",
        "        optimizer.zero_grad()\r\n",
        "        outputs = model(img_batch.to(device, dtype=torch.float))\r\n",
        "\r\n",
        "        loss = criterion(outputs, reordered_lbl.to(device, dtype=torch.float))\r\n",
        "        loss.backward()\r\n",
        "        optimizer.step()\r\n",
        "\r\n",
        "        # print statistics\r\n",
        "        running_loss += float(loss.detach().item())\r\n",
        "        iters += 1\r\n",
        "\r\n",
        "\r\n",
        "    print(f\"Training for epoch {epoch} finished with average MSE loss of: {running_loss / iters}\")\r\n",
        "\r\n",
        "\r\n",
        "    model.eval()\r\n",
        "    for i, data in enumerate(val_dataset, 0):\r\n",
        "\r\n",
        "\r\n",
        "        \r\n",
        "        img_batch, lbl_batch = data\r\n",
        "\r\n",
        "        reordered_lbl = order_by_closest_to_origin(lbl_batch)\r\n",
        "        outputs = model(img_batch.to(device, dtype=torch.float))\r\n",
        "\r\n",
        "        loss = criterion(outputs, reordered_lbl.to(device, dtype=torch.float))\r\n",
        "        # print statistics\r\n",
        "        running_loss += float(loss.detach().item())\r\n",
        "        iters += 1\r\n",
        "\r\n",
        "        #if i % 200 == 0:\r\n",
        "        #  print(f\"Epoch {epoch} - Validation Loss at {i}: {running_loss / iters}\")\r\n",
        "\r\n",
        "    print(f\"Validation for epoch {epoch} finished with average MSE loss of: {running_loss / iters}\")\r\n",
        "# *****END CODE"
      ],
      "execution_count": null,
      "outputs": [
        {
          "output_type": "stream",
          "text": [
            "Training for epoch 1 finished with average MSE loss of: 0.08065930879116058\n",
            "Validation for epoch 1 finished with average MSE loss of: 0.08055479745070139\n",
            "Training for epoch 2 finished with average MSE loss of: 0.08107382860779762\n",
            "Validation for epoch 2 finished with average MSE loss of: 0.08036421870191891\n",
            "Training for epoch 3 finished with average MSE loss of: 0.0807390975356102\n",
            "Validation for epoch 3 finished with average MSE loss of: 0.08022683744629223\n",
            "Training for epoch 4 finished with average MSE loss of: 0.07796772119402885\n",
            "Validation for epoch 4 finished with average MSE loss of: 0.07565075486898422\n",
            "Training for epoch 5 finished with average MSE loss of: 0.06020528581738472\n",
            "Validation for epoch 5 finished with average MSE loss of: 0.059102774485945704\n",
            "Training for epoch 6 finished with average MSE loss of: 0.0555818485468626\n",
            "Validation for epoch 6 finished with average MSE loss of: 0.05424140171458324\n",
            "Training for epoch 7 finished with average MSE loss of: 0.053734439820051196\n",
            "Validation for epoch 7 finished with average MSE loss of: 0.053236984523634116\n",
            "Training for epoch 8 finished with average MSE loss of: 0.052477525606751445\n",
            "Validation for epoch 8 finished with average MSE loss of: 0.05151296919832627\n",
            "Training for epoch 9 finished with average MSE loss of: 0.05134534077346325\n",
            "Validation for epoch 9 finished with average MSE loss of: 0.05038686163723469\n",
            "Training for epoch 10 finished with average MSE loss of: 0.05051329804956913\n",
            "Validation for epoch 10 finished with average MSE loss of: 0.049890552548070746\n",
            "Training for epoch 11 finished with average MSE loss of: 0.05000547598302364\n",
            "Validation for epoch 11 finished with average MSE loss of: 0.04903713195274274\n",
            "Training for epoch 12 finished with average MSE loss of: 0.049221651509404184\n",
            "Validation for epoch 12 finished with average MSE loss of: 0.04838204758862654\n",
            "Training for epoch 13 finished with average MSE loss of: 0.04881621989607811\n",
            "Validation for epoch 13 finished with average MSE loss of: 0.04783607720086972\n",
            "Training for epoch 14 finished with average MSE loss of: 0.04868183995038271\n",
            "Validation for epoch 14 finished with average MSE loss of: 0.04840265454724431\n",
            "Training for epoch 15 finished with average MSE loss of: 0.04779358657449484\n",
            "Validation for epoch 15 finished with average MSE loss of: 0.04716887821132938\n",
            "Training for epoch 16 finished with average MSE loss of: 0.04708636845648289\n",
            "Validation for epoch 16 finished with average MSE loss of: 0.046665408027668796\n",
            "Training for epoch 17 finished with average MSE loss of: 0.04625200955569744\n",
            "Validation for epoch 17 finished with average MSE loss of: 0.045988022138675054\n",
            "Training for epoch 18 finished with average MSE loss of: 0.04587242317199707\n",
            "Validation for epoch 18 finished with average MSE loss of: 0.04564049894611041\n",
            "Training for epoch 19 finished with average MSE loss of: 0.0456179004907608\n",
            "Validation for epoch 19 finished with average MSE loss of: 0.0454459706445535\n",
            "Training for epoch 20 finished with average MSE loss of: 0.04577285102009773\n",
            "Validation for epoch 20 finished with average MSE loss of: 0.045645442716777326\n",
            "Training for epoch 21 finished with average MSE loss of: 0.044085571020841596\n",
            "Validation for epoch 21 finished with average MSE loss of: 0.04394934972127278\n",
            "Training for epoch 22 finished with average MSE loss of: 0.043680732518434524\n",
            "Validation for epoch 22 finished with average MSE loss of: 0.043736417132119336\n",
            "Training for epoch 23 finished with average MSE loss of: 0.04286837338656187\n",
            "Validation for epoch 23 finished with average MSE loss of: 0.04295764553671082\n",
            "Training for epoch 24 finished with average MSE loss of: 0.0417162044942379\n",
            "Validation for epoch 24 finished with average MSE loss of: 0.04243747824182113\n",
            "Training for epoch 25 finished with average MSE loss of: 0.04150030337274074\n",
            "Validation for epoch 25 finished with average MSE loss of: 0.04192427770545085\n",
            "Training for epoch 26 finished with average MSE loss of: 0.04045618294179439\n",
            "Validation for epoch 26 finished with average MSE loss of: 0.04086913318683704\n",
            "Training for epoch 27 finished with average MSE loss of: 0.03928246732056141\n",
            "Validation for epoch 27 finished with average MSE loss of: 0.0406885942692558\n",
            "Training for epoch 28 finished with average MSE loss of: 0.03840957125276327\n",
            "Validation for epoch 28 finished with average MSE loss of: 0.03984198619301121\n",
            "Training for epoch 29 finished with average MSE loss of: 0.03769443771243095\n",
            "Validation for epoch 29 finished with average MSE loss of: 0.039181005197266736\n",
            "Training for epoch 30 finished with average MSE loss of: 0.03597441931813955\n",
            "Validation for epoch 30 finished with average MSE loss of: 0.0377025258479019\n",
            "Training for epoch 31 finished with average MSE loss of: 0.035401671536266804\n",
            "Validation for epoch 31 finished with average MSE loss of: 0.037624404386927685\n",
            "Training for epoch 32 finished with average MSE loss of: 0.03421368884295225\n",
            "Validation for epoch 32 finished with average MSE loss of: 0.03699818562095364\n",
            "Training for epoch 33 finished with average MSE loss of: 0.03284625092893839\n",
            "Validation for epoch 33 finished with average MSE loss of: 0.035881795504440865\n",
            "Training for epoch 34 finished with average MSE loss of: 0.03154696338623762\n",
            "Validation for epoch 34 finished with average MSE loss of: 0.0350189630749325\n",
            "Training for epoch 35 finished with average MSE loss of: 0.0308834295719862\n",
            "Validation for epoch 35 finished with average MSE loss of: 0.03429553960760434\n",
            "Training for epoch 36 finished with average MSE loss of: 0.028206643983721733\n",
            "Validation for epoch 36 finished with average MSE loss of: 0.03382765562584003\n",
            "Training for epoch 37 finished with average MSE loss of: 0.02786883693188429\n",
            "Validation for epoch 37 finished with average MSE loss of: 0.03253553948675593\n",
            "Training for epoch 38 finished with average MSE loss of: 0.025784642301499842\n",
            "Validation for epoch 38 finished with average MSE loss of: 0.03130723344162106\n",
            "Training for epoch 39 finished with average MSE loss of: 0.0251080911308527\n",
            "Validation for epoch 39 finished with average MSE loss of: 0.030631930809468032\n",
            "Training for epoch 40 finished with average MSE loss of: 0.02390482806786895\n",
            "Validation for epoch 40 finished with average MSE loss of: 0.029912498043850065\n",
            "Training for epoch 41 finished with average MSE loss of: 0.02146791197359562\n",
            "Validation for epoch 41 finished with average MSE loss of: 0.027669943980872632\n",
            "Training for epoch 42 finished with average MSE loss of: 0.019439810726791622\n",
            "Validation for epoch 42 finished with average MSE loss of: 0.02730683553032577\n",
            "Training for epoch 43 finished with average MSE loss of: 0.018318938940763474\n",
            "Validation for epoch 43 finished with average MSE loss of: 0.02545094152291616\n",
            "Training for epoch 44 finished with average MSE loss of: 0.016996923096477986\n",
            "Validation for epoch 44 finished with average MSE loss of: 0.025475197906295457\n",
            "Training for epoch 45 finished with average MSE loss of: 0.015658891651779413\n",
            "Validation for epoch 45 finished with average MSE loss of: 0.02381297276976208\n",
            "Training for epoch 46 finished with average MSE loss of: 0.015284758340567351\n",
            "Validation for epoch 46 finished with average MSE loss of: 0.023248698124662043\n",
            "Training for epoch 47 finished with average MSE loss of: 0.012666681965813041\n",
            "Validation for epoch 47 finished with average MSE loss of: 0.022349279043264687\n",
            "Training for epoch 48 finished with average MSE loss of: 0.011815871460363269\n",
            "Validation for epoch 48 finished with average MSE loss of: 0.021311822159526247\n",
            "Training for epoch 49 finished with average MSE loss of: 0.011983645349740982\n",
            "Validation for epoch 49 finished with average MSE loss of: 0.02141908333947261\n",
            "Training for epoch 50 finished with average MSE loss of: 0.009991064712405205\n",
            "Validation for epoch 50 finished with average MSE loss of: 0.01951844255129496\n",
            "Training for epoch 51 finished with average MSE loss of: 0.009134721565991641\n",
            "Validation for epoch 51 finished with average MSE loss of: 0.019105982752516865\n",
            "Training for epoch 52 finished with average MSE loss of: 0.008062639497220516\n",
            "Validation for epoch 52 finished with average MSE loss of: 0.018556419728944697\n",
            "Training for epoch 53 finished with average MSE loss of: 0.00788933240249753\n",
            "Validation for epoch 53 finished with average MSE loss of: 0.01793224767781794\n",
            "Training for epoch 54 finished with average MSE loss of: 0.0076182993017137055\n",
            "Validation for epoch 54 finished with average MSE loss of: 0.018184686225528518\n",
            "Training for epoch 55 finished with average MSE loss of: 0.006555417209863663\n",
            "Validation for epoch 55 finished with average MSE loss of: 0.01708065040409565\n",
            "Training for epoch 56 finished with average MSE loss of: 0.005780354756861925\n",
            "Validation for epoch 56 finished with average MSE loss of: 0.016931419065222143\n",
            "Training for epoch 57 finished with average MSE loss of: 0.005753217679448426\n",
            "Validation for epoch 57 finished with average MSE loss of: 0.016087375044977915\n",
            "Training for epoch 58 finished with average MSE loss of: 0.00486067384853959\n",
            "Validation for epoch 58 finished with average MSE loss of: 0.01578638598633309\n",
            "Training for epoch 59 finished with average MSE loss of: 0.005168267499655485\n",
            "Validation for epoch 59 finished with average MSE loss of: 0.015895871877049408\n",
            "Training for epoch 60 finished with average MSE loss of: 0.004964980942197144\n",
            "Validation for epoch 60 finished with average MSE loss of: 0.015776163362121832\n",
            "Training for epoch 61 finished with average MSE loss of: 0.0047239801120013\n",
            "Validation for epoch 61 finished with average MSE loss of: 0.016422375823991996\n",
            "Training for epoch 62 finished with average MSE loss of: 0.003936824887990952\n",
            "Validation for epoch 62 finished with average MSE loss of: 0.015011697312196096\n",
            "Training for epoch 63 finished with average MSE loss of: 0.004164706620387733\n",
            "Validation for epoch 63 finished with average MSE loss of: 0.015350926570439091\n",
            "Training for epoch 64 finished with average MSE loss of: 0.004767269683070481\n",
            "Validation for epoch 64 finished with average MSE loss of: 0.015542391536291689\n",
            "Training for epoch 65 finished with average MSE loss of: 0.003446034198626876\n",
            "Validation for epoch 65 finished with average MSE loss of: 0.014401046141671637\n",
            "Training for epoch 66 finished with average MSE loss of: 0.0028992395382374525\n",
            "Validation for epoch 66 finished with average MSE loss of: 0.013804525421001017\n",
            "Training for epoch 67 finished with average MSE loss of: 0.0026344888508319855\n",
            "Validation for epoch 67 finished with average MSE loss of: 0.01361745407183965\n",
            "Training for epoch 68 finished with average MSE loss of: 0.0024220216646790504\n",
            "Validation for epoch 68 finished with average MSE loss of: 0.013947886805981398\n",
            "Training for epoch 69 finished with average MSE loss of: 0.002699139263946563\n",
            "Validation for epoch 69 finished with average MSE loss of: 0.013980328996743386\n",
            "Training for epoch 70 finished with average MSE loss of: 0.0035482624294236303\n",
            "Validation for epoch 70 finished with average MSE loss of: 0.014677270971393834\n",
            "Training for epoch 71 finished with average MSE loss of: 0.0036187173780053853\n",
            "Validation for epoch 71 finished with average MSE loss of: 0.014283295005249481\n",
            "Training for epoch 72 finished with average MSE loss of: 0.0025992419524118304\n",
            "Validation for epoch 72 finished with average MSE loss of: 0.013517371884081513\n",
            "Training for epoch 73 finished with average MSE loss of: 0.002541307500563562\n",
            "Validation for epoch 73 finished with average MSE loss of: 0.01361679697331662\n",
            "Training for epoch 74 finished with average MSE loss of: 0.002595636467449367\n",
            "Validation for epoch 74 finished with average MSE loss of: 0.013854839922084163\n",
            "Training for epoch 75 finished with average MSE loss of: 0.0026997663555666804\n",
            "Validation for epoch 75 finished with average MSE loss of: 0.013873422955318043\n",
            "Training for epoch 76 finished with average MSE loss of: 0.002622956706210971\n",
            "Validation for epoch 76 finished with average MSE loss of: 0.013648338937200606\n",
            "Training for epoch 77 finished with average MSE loss of: 0.00216956436727196\n",
            "Validation for epoch 77 finished with average MSE loss of: 0.012959380100946874\n",
            "Training for epoch 78 finished with average MSE loss of: 0.0026640460556373\n",
            "Validation for epoch 78 finished with average MSE loss of: 0.013220071698694179\n",
            "Training for epoch 79 finished with average MSE loss of: 0.0024123825887218116\n",
            "Validation for epoch 79 finished with average MSE loss of: 0.012872192376138021\n",
            "Training for epoch 80 finished with average MSE loss of: 0.0024738820870406925\n",
            "Validation for epoch 80 finished with average MSE loss of: 0.012907413710296774\n",
            "Training for epoch 81 finished with average MSE loss of: 0.0025344369155354796\n",
            "Validation for epoch 81 finished with average MSE loss of: 0.013391698900377377\n",
            "Training for epoch 82 finished with average MSE loss of: 0.002234154269564897\n",
            "Validation for epoch 82 finished with average MSE loss of: 0.01301694991105857\n",
            "Training for epoch 83 finished with average MSE loss of: 0.002303150575608015\n",
            "Validation for epoch 83 finished with average MSE loss of: 0.01280645520426333\n",
            "Training for epoch 84 finished with average MSE loss of: 0.0018533047214150428\n",
            "Validation for epoch 84 finished with average MSE loss of: 0.012326925738404194\n",
            "Training for epoch 85 finished with average MSE loss of: 0.0017981411865912377\n",
            "Validation for epoch 85 finished with average MSE loss of: 0.01235259262030013\n",
            "Training for epoch 86 finished with average MSE loss of: 0.002018168546259403\n",
            "Validation for epoch 86 finished with average MSE loss of: 0.012689803062627713\n",
            "Training for epoch 87 finished with average MSE loss of: 0.0020094921658746897\n",
            "Validation for epoch 87 finished with average MSE loss of: 0.012535484674929952\n",
            "Training for epoch 88 finished with average MSE loss of: 0.0019548510182648897\n",
            "Validation for epoch 88 finished with average MSE loss of: 0.012545240734082957\n",
            "Training for epoch 89 finished with average MSE loss of: 0.0017635038727894425\n",
            "Validation for epoch 89 finished with average MSE loss of: 0.012391773506533355\n",
            "Training for epoch 90 finished with average MSE loss of: 0.002091178716160357\n",
            "Validation for epoch 90 finished with average MSE loss of: 0.012773983615916222\n",
            "Training for epoch 91 finished with average MSE loss of: 0.0024951539086177947\n",
            "Validation for epoch 91 finished with average MSE loss of: 0.01335364578058943\n",
            "Training for epoch 92 finished with average MSE loss of: 0.0018123569674789906\n",
            "Validation for epoch 92 finished with average MSE loss of: 0.012445204025134445\n",
            "Training for epoch 93 finished with average MSE loss of: 0.0016413583331741392\n",
            "Validation for epoch 93 finished with average MSE loss of: 0.012465886413507784\n",
            "Training for epoch 94 finished with average MSE loss of: 0.0016638196716085077\n",
            "Validation for epoch 94 finished with average MSE loss of: 0.012202136331082632\n",
            "Training for epoch 95 finished with average MSE loss of: 0.0017190318019129336\n",
            "Validation for epoch 95 finished with average MSE loss of: 0.012261056818145637\n",
            "Training for epoch 96 finished with average MSE loss of: 0.0016966186608187853\n",
            "Validation for epoch 96 finished with average MSE loss of: 0.012218772259463245\n",
            "Training for epoch 97 finished with average MSE loss of: 0.0016961611323058606\n",
            "Validation for epoch 97 finished with average MSE loss of: 0.011871736797814569\n",
            "Training for epoch 98 finished with average MSE loss of: 0.0018173547978512943\n",
            "Validation for epoch 98 finished with average MSE loss of: 0.012196214360107357\n",
            "Training for epoch 99 finished with average MSE loss of: 0.00175129052111879\n",
            "Validation for epoch 99 finished with average MSE loss of: 0.012042016031919046\n",
            "Training for epoch 100 finished with average MSE loss of: 0.0014538432117551566\n",
            "Validation for epoch 100 finished with average MSE loss of: 0.012026328014520308\n",
            "Training for epoch 101 finished with average MSE loss of: 0.0018132660556584596\n",
            "Validation for epoch 101 finished with average MSE loss of: 0.012798260687850416\n",
            "Training for epoch 102 finished with average MSE loss of: 0.0017362352227792144\n",
            "Validation for epoch 102 finished with average MSE loss of: 0.012245524208216618\n",
            "Training for epoch 103 finished with average MSE loss of: 0.0013648329842835664\n",
            "Validation for epoch 103 finished with average MSE loss of: 0.012179331781032185\n",
            "Training for epoch 104 finished with average MSE loss of: 0.0016580605171620847\n",
            "Validation for epoch 104 finished with average MSE loss of: 0.01189997600701948\n",
            "Training for epoch 105 finished with average MSE loss of: 0.0018791127349250018\n",
            "Validation for epoch 105 finished with average MSE loss of: 0.012355712751159445\n",
            "Training for epoch 106 finished with average MSE loss of: 0.0017378411442041397\n",
            "Validation for epoch 106 finished with average MSE loss of: 0.012346895895898342\n",
            "Training for epoch 107 finished with average MSE loss of: 0.0014396349717862905\n",
            "Validation for epoch 107 finished with average MSE loss of: 0.01170129155778947\n",
            "Training for epoch 108 finished with average MSE loss of: 0.0014379375050775707\n",
            "Validation for epoch 108 finished with average MSE loss of: 0.011839576928177848\n",
            "Training for epoch 109 finished with average MSE loss of: 0.0014836792373098433\n",
            "Validation for epoch 109 finished with average MSE loss of: 0.012005744007183239\n",
            "Training for epoch 110 finished with average MSE loss of: 0.0011858265344053508\n",
            "Validation for epoch 110 finished with average MSE loss of: 0.011142353795779249\n",
            "Training for epoch 111 finished with average MSE loss of: 0.0013120780275203288\n",
            "Validation for epoch 111 finished with average MSE loss of: 0.011480574060309057\n",
            "Training for epoch 112 finished with average MSE loss of: 0.0014601429384201764\n",
            "Validation for epoch 112 finished with average MSE loss of: 0.011679513688820104\n",
            "Training for epoch 113 finished with average MSE loss of: 0.001619725410360843\n",
            "Validation for epoch 113 finished with average MSE loss of: 0.011864755579348032\n",
            "Training for epoch 114 finished with average MSE loss of: 0.0014790997593663632\n",
            "Validation for epoch 114 finished with average MSE loss of: 0.011940227853677546\n",
            "Training for epoch 115 finished with average MSE loss of: 0.0014449641685932875\n",
            "Validation for epoch 115 finished with average MSE loss of: 0.011751130792933205\n",
            "Training for epoch 116 finished with average MSE loss of: 0.0011362218675203622\n",
            "Validation for epoch 116 finished with average MSE loss of: 0.011189725992347424\n",
            "Training for epoch 117 finished with average MSE loss of: 0.000936388385714963\n",
            "Validation for epoch 117 finished with average MSE loss of: 0.011553807858726941\n",
            "Training for epoch 118 finished with average MSE loss of: 0.0009726419651415199\n",
            "Validation for epoch 118 finished with average MSE loss of: 0.011413578606637505\n",
            "Training for epoch 119 finished with average MSE loss of: 0.0013780463002622128\n",
            "Validation for epoch 119 finished with average MSE loss of: 0.01163099894610544\n",
            "Training for epoch 120 finished with average MSE loss of: 0.0013221304439939559\n",
            "Validation for epoch 120 finished with average MSE loss of: 0.01119827520296288\n",
            "Training for epoch 121 finished with average MSE loss of: 0.0014050260945223272\n",
            "Validation for epoch 121 finished with average MSE loss of: 0.011063317496251935\n",
            "Training for epoch 122 finished with average MSE loss of: 0.001571559995878488\n",
            "Validation for epoch 122 finished with average MSE loss of: 0.0119458683708217\n",
            "Training for epoch 123 finished with average MSE loss of: 0.0012247529949527235\n",
            "Validation for epoch 123 finished with average MSE loss of: 0.01168358836536451\n",
            "Training for epoch 124 finished with average MSE loss of: 0.0013065889733843506\n",
            "Validation for epoch 124 finished with average MSE loss of: 0.011258773787800843\n",
            "Training for epoch 125 finished with average MSE loss of: 0.0010190172498114407\n",
            "Validation for epoch 125 finished with average MSE loss of: 0.01110779594668808\n",
            "Training for epoch 126 finished with average MSE loss of: 0.0010158749362453817\n",
            "Validation for epoch 126 finished with average MSE loss of: 0.011488910564997543\n",
            "Training for epoch 127 finished with average MSE loss of: 0.0011660215884912758\n",
            "Validation for epoch 127 finished with average MSE loss of: 0.01130482577039705\n",
            "Training for epoch 128 finished with average MSE loss of: 0.001168091497849673\n",
            "Validation for epoch 128 finished with average MSE loss of: 0.011555022503792619\n",
            "Training for epoch 129 finished with average MSE loss of: 0.001427468940615654\n",
            "Validation for epoch 129 finished with average MSE loss of: 0.011535304759939512\n",
            "Training for epoch 130 finished with average MSE loss of: 0.001217667730525136\n",
            "Validation for epoch 130 finished with average MSE loss of: 0.01154050968742619\n",
            "Training for epoch 131 finished with average MSE loss of: 0.0010753066635224968\n",
            "Validation for epoch 131 finished with average MSE loss of: 0.011241786785928222\n",
            "Training for epoch 132 finished with average MSE loss of: 0.0010226867101155222\n",
            "Validation for epoch 132 finished with average MSE loss of: 0.011188534564571456\n",
            "Training for epoch 133 finished with average MSE loss of: 0.0012037683273665608\n",
            "Validation for epoch 133 finished with average MSE loss of: 0.011529786511867618\n",
            "Training for epoch 134 finished with average MSE loss of: 0.0013261074111796916\n",
            "Validation for epoch 134 finished with average MSE loss of: 0.011356632000533863\n",
            "Training for epoch 135 finished with average MSE loss of: 0.0014086173991672694\n",
            "Validation for epoch 135 finished with average MSE loss of: 0.011335601998725907\n",
            "Training for epoch 136 finished with average MSE loss of: 0.0012021535153035074\n",
            "Validation for epoch 136 finished with average MSE loss of: 0.011390113989085269\n",
            "Training for epoch 137 finished with average MSE loss of: 0.0007782515424769372\n",
            "Validation for epoch 137 finished with average MSE loss of: 0.010750112582269745\n",
            "Training for epoch 138 finished with average MSE loss of: 0.000781271731480956\n",
            "Validation for epoch 138 finished with average MSE loss of: 0.011004318711347877\n",
            "Training for epoch 139 finished with average MSE loss of: 0.0010656820440199226\n",
            "Validation for epoch 139 finished with average MSE loss of: 0.010866663472843357\n",
            "Training for epoch 140 finished with average MSE loss of: 0.0011524075134657324\n",
            "Validation for epoch 140 finished with average MSE loss of: 0.011021623202832415\n",
            "Training for epoch 141 finished with average MSE loss of: 0.0012026042151264847\n",
            "Validation for epoch 141 finished with average MSE loss of: 0.011227378096664324\n",
            "Training for epoch 142 finished with average MSE loss of: 0.0009399294718168676\n",
            "Validation for epoch 142 finished with average MSE loss of: 0.011170326869857188\n",
            "Training for epoch 143 finished with average MSE loss of: 0.001049561400897801\n",
            "Validation for epoch 143 finished with average MSE loss of: 0.01100113599638765\n",
            "Training for epoch 144 finished with average MSE loss of: 0.0009220474502071738\n",
            "Validation for epoch 144 finished with average MSE loss of: 0.010867996215044211\n",
            "Training for epoch 145 finished with average MSE loss of: 0.0010548710238654166\n",
            "Validation for epoch 145 finished with average MSE loss of: 0.011431753239012323\n",
            "Training for epoch 146 finished with average MSE loss of: 0.0010760139955673367\n",
            "Validation for epoch 146 finished with average MSE loss of: 0.010967941878867956\n",
            "Training for epoch 147 finished with average MSE loss of: 0.000938785397214815\n",
            "Validation for epoch 147 finished with average MSE loss of: 0.010821450067645249\n",
            "Training for epoch 148 finished with average MSE loss of: 0.0008199365735054016\n",
            "Validation for epoch 148 finished with average MSE loss of: 0.010683419679601987\n",
            "Training for epoch 149 finished with average MSE loss of: 0.0009659744903910906\n",
            "Validation for epoch 149 finished with average MSE loss of: 0.010872524488756122\n",
            "Training for epoch 150 finished with average MSE loss of: 0.0009618596292566508\n",
            "Validation for epoch 150 finished with average MSE loss of: 0.010825038912977713\n",
            "Training for epoch 151 finished with average MSE loss of: 0.0012642681691795588\n",
            "Validation for epoch 151 finished with average MSE loss of: 0.01122915899536262\n",
            "Training for epoch 152 finished with average MSE loss of: 0.0010651409449055791\n",
            "Validation for epoch 152 finished with average MSE loss of: 0.010772767275727043\n",
            "Training for epoch 153 finished with average MSE loss of: 0.0009948844907339662\n",
            "Validation for epoch 153 finished with average MSE loss of: 0.010638713724717187\n",
            "Training for epoch 154 finished with average MSE loss of: 0.000982662225374952\n",
            "Validation for epoch 154 finished with average MSE loss of: 0.011180430025366755\n",
            "Training for epoch 155 finished with average MSE loss of: 0.0009297537920065224\n",
            "Validation for epoch 155 finished with average MSE loss of: 0.010838834255700931\n",
            "Training for epoch 156 finished with average MSE loss of: 0.0007874100606422871\n",
            "Validation for epoch 156 finished with average MSE loss of: 0.010504300478496589\n",
            "Training for epoch 157 finished with average MSE loss of: 0.0008941942385863513\n",
            "Validation for epoch 157 finished with average MSE loss of: 0.010975501227464216\n",
            "Training for epoch 158 finished with average MSE loss of: 0.0008649484515190124\n",
            "Validation for epoch 158 finished with average MSE loss of: 0.01093227420002222\n",
            "Training for epoch 159 finished with average MSE loss of: 0.0009258635144215077\n",
            "Validation for epoch 159 finished with average MSE loss of: 0.010973896839617131\n",
            "Training for epoch 160 finished with average MSE loss of: 0.0008688976615667343\n",
            "Validation for epoch 160 finished with average MSE loss of: 0.010812363574902216\n",
            "Training for epoch 161 finished with average MSE loss of: 0.000922125157667324\n",
            "Validation for epoch 161 finished with average MSE loss of: 0.01045829861483071\n",
            "Training for epoch 162 finished with average MSE loss of: 0.0010240774552803486\n",
            "Validation for epoch 162 finished with average MSE loss of: 0.010914640267340776\n"
          ],
          "name": "stdout"
        },
        {
          "output_type": "error",
          "ename": "KeyboardInterrupt",
          "evalue": "ignored",
          "traceback": [
            "\u001b[0;31m---------------------------------------------------------------------------\u001b[0m",
            "\u001b[0;31mKeyboardInterrupt\u001b[0m                         Traceback (most recent call last)",
            "\u001b[0;32m<ipython-input-171-98f65e2ba889>\u001b[0m in \u001b[0;36m<module>\u001b[0;34m()\u001b[0m\n\u001b[1;32m     20\u001b[0m         \u001b[0mloss\u001b[0m \u001b[0;34m=\u001b[0m \u001b[0mcriterion\u001b[0m\u001b[0;34m(\u001b[0m\u001b[0moutputs\u001b[0m\u001b[0;34m,\u001b[0m \u001b[0mreordered_lbl\u001b[0m\u001b[0;34m.\u001b[0m\u001b[0mto\u001b[0m\u001b[0;34m(\u001b[0m\u001b[0mdevice\u001b[0m\u001b[0;34m,\u001b[0m \u001b[0mdtype\u001b[0m\u001b[0;34m=\u001b[0m\u001b[0mtorch\u001b[0m\u001b[0;34m.\u001b[0m\u001b[0mfloat\u001b[0m\u001b[0;34m)\u001b[0m\u001b[0;34m)\u001b[0m\u001b[0;34m\u001b[0m\u001b[0;34m\u001b[0m\u001b[0m\n\u001b[1;32m     21\u001b[0m         \u001b[0mloss\u001b[0m\u001b[0;34m.\u001b[0m\u001b[0mbackward\u001b[0m\u001b[0;34m(\u001b[0m\u001b[0;34m)\u001b[0m\u001b[0;34m\u001b[0m\u001b[0;34m\u001b[0m\u001b[0m\n\u001b[0;32m---> 22\u001b[0;31m         \u001b[0moptimizer\u001b[0m\u001b[0;34m.\u001b[0m\u001b[0mstep\u001b[0m\u001b[0;34m(\u001b[0m\u001b[0;34m)\u001b[0m\u001b[0;34m\u001b[0m\u001b[0;34m\u001b[0m\u001b[0m\n\u001b[0m\u001b[1;32m     23\u001b[0m \u001b[0;34m\u001b[0m\u001b[0m\n\u001b[1;32m     24\u001b[0m         \u001b[0;31m# print statistics\u001b[0m\u001b[0;34m\u001b[0m\u001b[0;34m\u001b[0m\u001b[0;34m\u001b[0m\u001b[0m\n",
            "\u001b[0;32m/usr/local/lib/python3.6/dist-packages/torch/autograd/grad_mode.py\u001b[0m in \u001b[0;36mdecorate_context\u001b[0;34m(*args, **kwargs)\u001b[0m\n\u001b[1;32m     24\u001b[0m         \u001b[0;32mdef\u001b[0m \u001b[0mdecorate_context\u001b[0m\u001b[0;34m(\u001b[0m\u001b[0;34m*\u001b[0m\u001b[0margs\u001b[0m\u001b[0;34m,\u001b[0m \u001b[0;34m**\u001b[0m\u001b[0mkwargs\u001b[0m\u001b[0;34m)\u001b[0m\u001b[0;34m:\u001b[0m\u001b[0;34m\u001b[0m\u001b[0;34m\u001b[0m\u001b[0m\n\u001b[1;32m     25\u001b[0m             \u001b[0;32mwith\u001b[0m \u001b[0mself\u001b[0m\u001b[0;34m.\u001b[0m\u001b[0m__class__\u001b[0m\u001b[0;34m(\u001b[0m\u001b[0;34m)\u001b[0m\u001b[0;34m:\u001b[0m\u001b[0;34m\u001b[0m\u001b[0;34m\u001b[0m\u001b[0m\n\u001b[0;32m---> 26\u001b[0;31m                 \u001b[0;32mreturn\u001b[0m \u001b[0mfunc\u001b[0m\u001b[0;34m(\u001b[0m\u001b[0;34m*\u001b[0m\u001b[0margs\u001b[0m\u001b[0;34m,\u001b[0m \u001b[0;34m**\u001b[0m\u001b[0mkwargs\u001b[0m\u001b[0;34m)\u001b[0m\u001b[0;34m\u001b[0m\u001b[0;34m\u001b[0m\u001b[0m\n\u001b[0m\u001b[1;32m     27\u001b[0m         \u001b[0;32mreturn\u001b[0m \u001b[0mcast\u001b[0m\u001b[0;34m(\u001b[0m\u001b[0mF\u001b[0m\u001b[0;34m,\u001b[0m \u001b[0mdecorate_context\u001b[0m\u001b[0;34m)\u001b[0m\u001b[0;34m\u001b[0m\u001b[0;34m\u001b[0m\u001b[0m\n\u001b[1;32m     28\u001b[0m \u001b[0;34m\u001b[0m\u001b[0m\n",
            "\u001b[0;32m/usr/local/lib/python3.6/dist-packages/torch/optim/adamax.py\u001b[0m in \u001b[0;36mstep\u001b[0;34m(self, closure)\u001b[0m\n\u001b[1;32m     81\u001b[0m                     \u001b[0mgrad\u001b[0m\u001b[0;34m.\u001b[0m\u001b[0mabs\u001b[0m\u001b[0;34m(\u001b[0m\u001b[0;34m)\u001b[0m\u001b[0;34m.\u001b[0m\u001b[0madd_\u001b[0m\u001b[0;34m(\u001b[0m\u001b[0meps\u001b[0m\u001b[0;34m)\u001b[0m\u001b[0;34m.\u001b[0m\u001b[0munsqueeze_\u001b[0m\u001b[0;34m(\u001b[0m\u001b[0;36m0\u001b[0m\u001b[0;34m)\u001b[0m\u001b[0;34m\u001b[0m\u001b[0;34m\u001b[0m\u001b[0m\n\u001b[1;32m     82\u001b[0m                 ], 0)\n\u001b[0;32m---> 83\u001b[0;31m                 \u001b[0mtorch\u001b[0m\u001b[0;34m.\u001b[0m\u001b[0mamax\u001b[0m\u001b[0;34m(\u001b[0m\u001b[0mnorm_buf\u001b[0m\u001b[0;34m,\u001b[0m \u001b[0;36m0\u001b[0m\u001b[0;34m,\u001b[0m \u001b[0mkeepdim\u001b[0m\u001b[0;34m=\u001b[0m\u001b[0;32mFalse\u001b[0m\u001b[0;34m,\u001b[0m \u001b[0mout\u001b[0m\u001b[0;34m=\u001b[0m\u001b[0mexp_inf\u001b[0m\u001b[0;34m)\u001b[0m\u001b[0;34m\u001b[0m\u001b[0;34m\u001b[0m\u001b[0m\n\u001b[0m\u001b[1;32m     84\u001b[0m \u001b[0;34m\u001b[0m\u001b[0m\n\u001b[1;32m     85\u001b[0m                 \u001b[0mbias_correction\u001b[0m \u001b[0;34m=\u001b[0m \u001b[0;36m1\u001b[0m \u001b[0;34m-\u001b[0m \u001b[0mbeta1\u001b[0m \u001b[0;34m**\u001b[0m \u001b[0mstate\u001b[0m\u001b[0;34m[\u001b[0m\u001b[0;34m'step'\u001b[0m\u001b[0;34m]\u001b[0m\u001b[0;34m\u001b[0m\u001b[0;34m\u001b[0m\u001b[0m\n",
            "\u001b[0;31mKeyboardInterrupt\u001b[0m: "
          ]
        }
      ]
    },
    {
      "cell_type": "markdown",
      "metadata": {
        "id": "IA442A5J7LqG"
      },
      "source": [
        "**Early stop due to overfit**"
      ]
    },
    {
      "cell_type": "code",
      "metadata": {
        "colab": {
          "base_uri": "https://localhost:8080/",
          "height": 324
        },
        "id": "GgHYl_pay6TQ",
        "outputId": "1f1448d5-7d06-4631-a608-cde36d859546"
      },
      "source": [
        "batch, result = next(iter(test_dataset))\r\n",
        "image = batch[0, :]\r\n",
        "outputs = model(image.to(device, dtype=torch.float))\r\n",
        "\r\n",
        "image = image.cpu()\r\n",
        "outputs = outputs.detach().cpu()\r\n",
        "\r\n",
        "visualize_prediction(image, outputs)"
      ],
      "execution_count": null,
      "outputs": [
        {
          "output_type": "display_data",
          "data": {
            "image/png": "[encoded data removed]",
            "text/plain": [
              "<Figure size 360x360 with 1 Axes>"
            ]
          },
          "metadata": {
            "tags": [],
            "needs_background": "light"
          }
        }
      ]
    }
  ]
}